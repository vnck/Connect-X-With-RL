{
 "cells": [
  {
   "cell_type": "code",
   "execution_count": 1,
   "metadata": {},
   "outputs": [
    {
     "name": "stdout",
     "output_type": "stream",
     "text": [
      "Requirement already satisfied: kaggle-environments>=0.1.6 in /opt/conda/lib/python3.6/site-packages (1.2.1)\n",
      "Requirement already satisfied: jsonschema>=3.0.1 in /opt/conda/lib/python3.6/site-packages (from kaggle-environments>=0.1.6) (3.2.0)\n",
      "Requirement already satisfied: importlib-metadata; python_version < \"3.8\" in /opt/conda/lib/python3.6/site-packages (from jsonschema>=3.0.1->kaggle-environments>=0.1.6) (1.6.1)\n",
      "Requirement already satisfied: setuptools in /opt/conda/lib/python3.6/site-packages (from jsonschema>=3.0.1->kaggle-environments>=0.1.6) (47.1.1.post20200529)\n",
      "Requirement already satisfied: attrs>=17.4.0 in /opt/conda/lib/python3.6/site-packages (from jsonschema>=3.0.1->kaggle-environments>=0.1.6) (19.3.0)\n",
      "Requirement already satisfied: pyrsistent>=0.14.0 in /opt/conda/lib/python3.6/site-packages (from jsonschema>=3.0.1->kaggle-environments>=0.1.6) (0.16.0)\n",
      "Requirement already satisfied: six>=1.11.0 in /opt/conda/lib/python3.6/site-packages (from jsonschema>=3.0.1->kaggle-environments>=0.1.6) (1.15.0)\n",
      "Requirement already satisfied: zipp>=0.5 in /opt/conda/lib/python3.6/site-packages (from importlib-metadata; python_version < \"3.8\"->jsonschema>=3.0.1->kaggle-environments>=0.1.6) (3.1.0)\n"
     ]
    }
   ],
   "source": [
    "!pip install 'kaggle-environments>=0.1.6'"
   ]
  },
  {
   "cell_type": "code",
   "execution_count": 2,
   "metadata": {},
   "outputs": [],
   "source": [
    "import numpy as np\n",
    "import gym\n",
    "import torch\n",
    "import torch.nn as nn\n",
    "import torch.optim as optim\n",
    "import matplotlib.pyplot as plt\n",
    "from kaggle_environments import evaluate, make, utils"
   ]
  },
  {
   "cell_type": "markdown",
   "metadata": {},
   "source": [
    "# Define Gym Class"
   ]
  },
  {
   "cell_type": "code",
   "execution_count": 3,
   "metadata": {},
   "outputs": [],
   "source": [
    "import random\n",
    "\n",
    "def combined_agent(default_agent, alternate_agent, epsilon):\n",
    "    def updated_agent(obs, config):\n",
    "        if (random.random() < epsilon):\n",
    "            return alternate_agent(obs, config)\n",
    "        return default_agent(obs,config)\n",
    "    return updated_agent\n",
    "\n",
    "from kaggle_environments.envs.connectx.connectx import negamax_agent\n",
    "from kaggle_environments.envs.connectx.connectx import random_agent\n",
    "\n",
    "e_greedy_negamax = combined_agent(negamax_agent, random_agent, 0.3)"
   ]
  },
  {
   "cell_type": "code",
   "execution_count": 4,
   "metadata": {},
   "outputs": [],
   "source": [
    "class ConnectX(gym.Env):\n",
    "    def __init__(self, switch_prob=0.5):\n",
    "        self.env = make('connectx', debug=False)\n",
    "        self.pair = [None, e_greedy_negamax]\n",
    "        self.trainer = self.env.train(self.pair)\n",
    "        self.switch_prob = switch_prob\n",
    "\n",
    "        config = self.env.configuration\n",
    "        self.action_space = gym.spaces.Discrete(config.columns)\n",
    "        self.observation_space = gym.spaces.Discrete(config.columns\n",
    "                * config.rows)\n",
    "\n",
    "    def switch_trainer(self):\n",
    "        self.pair = self.pair[::-1]\n",
    "        self.trainer = self.env.train(self.pair)\n",
    "\n",
    "    def step(self, action):\n",
    "        return self.trainer.step(action)\n",
    "\n",
    "    def reset(self):\n",
    "        if np.random.random() < self.switch_prob:\n",
    "            self.switch_trainer()\n",
    "        return self.trainer.reset()\n",
    "\n",
    "    def render(self, **kwargs):\n",
    "        return self.env.render(**kwargs)"
   ]
  },
  {
   "cell_type": "markdown",
   "metadata": {},
   "source": [
    "# Define Model"
   ]
  },
  {
   "cell_type": "code",
   "execution_count": 5,
   "metadata": {},
   "outputs": [],
   "source": [
    "class DeepModel(nn.Module):\n",
    "    def __init__(\n",
    "        self,\n",
    "        num_states,\n",
    "        num_actions,\n",
    "        ):\n",
    "        super(DeepModel, self).__init__()\n",
    "        self.conv1 = nn.Conv2d(1,20,(1,1))\n",
    "        self.conv2 = nn.Conv2d(1,20,(1,7))\n",
    "        self.conv3 = nn.Conv2d(1,20,(6,1))\n",
    "        self.relu = nn.ReLU(inplace=True)\n",
    "        self.fc = nn.Linear(20*55,128)\n",
    "        self.output_layer = nn.Linear(128, num_actions)\n",
    "\n",
    "    def forward(self, x):\n",
    "        x = x.view(-1,1,6,7)\n",
    "        self.input_x = x\n",
    "        x1 = self.relu(self.conv1(x))\n",
    "        x2 = self.relu(self.conv2(x))\n",
    "        x3 = self.relu(self.conv3(x))\n",
    "        x1 = x1.view(-1,20,42)\n",
    "        x2 = x2.view(-1,20,6)\n",
    "        x3 = x3.view(-1,20,7)\n",
    "        x_cat = torch.cat((x1,x2,x3),2)\n",
    "        x = x_cat.view(-1,20*55)\n",
    "        x = self.relu(self.fc(x))\n",
    "        x = self.output_layer(x)\n",
    "        return x\n",
    "\n",
    "\n",
    "class DQN:\n",
    "    def __init__(\n",
    "        self,\n",
    "        num_states,\n",
    "        num_actions,\n",
    "        gamma,\n",
    "        max_experiences,\n",
    "        min_experiences,\n",
    "        batch_size,\n",
    "        lr,\n",
    "        ):\n",
    "        self.device = torch.device(('cuda'\n",
    "                                    if torch.cuda.is_available() else 'cpu'\n",
    "                                   ))\n",
    "        self.num_actions = num_actions\n",
    "        self.batch_size = batch_size\n",
    "        self.gamma = gamma\n",
    "        self.model = DeepModel(num_states,\n",
    "                               num_actions).to(self.device)\n",
    "        print(self.model)\n",
    "#         self.model.conv1.register_backward_hook(self.backward_hook)\n",
    "        self.optimizer = optim.Adam(self.model.parameters(), lr=lr)\n",
    "        self.criterion = nn.MSELoss().to(self.device)\n",
    "        self.experience = {\n",
    "            's': [],\n",
    "            'a': [],\n",
    "            'r': [],\n",
    "            's2': [],\n",
    "            'done': [],\n",
    "            }\n",
    "        self.max_experiences = max_experiences\n",
    "        self.min_experiences = min_experiences\n",
    "\n",
    "    def predict(self, inputs):\n",
    "        return self.model(torch.from_numpy(inputs).float().to(self.device))\n",
    "\n",
    "    def train(self, TargetNet):\n",
    "        if len(self.experience['s']) < self.min_experiences:\n",
    "            # only start training process if enough experiences in buffer\n",
    "            return 0\n",
    "\n",
    "        # randomly select n experiences in buffer to form batch\n",
    "        ids = np.random.randint(low=0, high=len(self.experience['s']),\n",
    "                                size=self.batch_size)\n",
    "        states = np.asarray([self.preprocess(self.experience['s'][i])\n",
    "                            for i in ids])\n",
    "        actions = np.asarray([self.experience['a'][i] for i in ids])\n",
    "        rewards = np.asarray([self.experience['r'][i] for i in ids])\n",
    "\n",
    "        # prepare labels\n",
    "        states_next = np.asarray([self.preprocess(self.experience['s2'\n",
    "                                 ][i]) for i in ids])\n",
    "        dones = np.asarray([self.experience['done'][i] for i in ids])\n",
    "        value_next = \\\n",
    "            np.max(TargetNet.predict(states_next).detach().cpu().numpy(),\n",
    "                   axis=1)\n",
    "        actual_values = np.where(dones, rewards, rewards + self.gamma\n",
    "                                 * value_next)\n",
    "\n",
    "        actions = np.expand_dims(actions, axis=1)\n",
    "        actions_one_hot = torch.FloatTensor(self.batch_size,\n",
    "                self.num_actions).zero_()\n",
    "        actions_one_hot = actions_one_hot.scatter_(1,\n",
    "                torch.LongTensor(actions), 1).to(self.device)\n",
    "        selected_action_values = torch.sum(self.predict(states)\n",
    "                * actions_one_hot, dim=1).to(self.device)\n",
    "        actual_values = torch.FloatTensor(actual_values).to(self.device)\n",
    "\n",
    "        self.optimizer.zero_grad()\n",
    "        loss = self.criterion(selected_action_values, actual_values)\n",
    "        loss.backward()\n",
    "        self.optimizer.step()\n",
    "\n",
    "    def get_action(self, state, epsilon):\n",
    "        # to get an action by using epsilon-greedy\n",
    "        if np.random.random() < epsilon:\n",
    "            return int(np.random.choice([c for c in range(self.num_actions) if state['board'][c] == 0]))\n",
    "        else:\n",
    "            prediction = \\\n",
    "                self.predict(np.atleast_2d(self.preprocess(state)))[0].detach().cpu().numpy()\n",
    "            for i in range(self.num_actions):\n",
    "                if state['board'][i] != 0:\n",
    "                    prediction[i] = -1e7\n",
    "            return int(np.argmax(prediction))\n",
    "\n",
    "    def add_experience(self, exp):\n",
    "        if len(self.experience['s']) >= self.max_experiences:\n",
    "            for key in self.experience.keys():\n",
    "                self.experience[key].pop(0)\n",
    "        for (key, value) in exp.items():\n",
    "            self.experience[key].append(value)\n",
    "\n",
    "    def copy_weights(self, TrainNet):\n",
    "        self.model.load_state_dict(TrainNet.model.state_dict())\n",
    "\n",
    "    def save_weights(self, path):\n",
    "        torch.save(self.model.state_dict(), path)\n",
    "\n",
    "    def load_weights(self, path):\n",
    "        self.model.load_state_dict(torch.load(path))\n",
    "\n",
    "    def preprocess(self, state):\n",
    "        # each state consists of overview of the board and the mark in the obsevations\n",
    "        # results = (state['board'])[:]\n",
    "        # results.append(state.mark)\n",
    "        # return results\n",
    "        board = (state['board'])[:]\n",
    "        if state.mark == 1:\n",
    "            board[board == 2] = -1\n",
    "        else:\n",
    "            board[board == 1] = -1\n",
    "            board[board == 2] = 1\n",
    "        return board\n",
    "\n",
    "    def backward_hook(self, module, grad_in, grad_out):\n",
    "        print(grad_out[0].shape)"
   ]
  },
  {
   "cell_type": "code",
   "execution_count": 6,
   "metadata": {},
   "outputs": [],
   "source": [
    "def play_game(\n",
    "    env,\n",
    "    TrainNet,\n",
    "    TargetNet,\n",
    "    epsilon,\n",
    "    copy_step,\n",
    "    ):\n",
    "    rewards = 0\n",
    "    iter = 0\n",
    "    done = False\n",
    "    observations = env.reset()\n",
    "    while not done:\n",
    "        action = TrainNet.get_action(observations, epsilon)\n",
    "        prev_observations = observations\n",
    "        (observations, reward, done, _) = env.step(action)\n",
    "\n",
    "        if done:\n",
    "            if reward == 1:\n",
    "                reward = 20\n",
    "            elif reward == 0:\n",
    "                reward = -20\n",
    "            else:\n",
    "                reward = 10\n",
    "        else:\n",
    "            reward = 0.5\n",
    "\n",
    "        rewards += reward\n",
    "\n",
    "        exp = {\n",
    "            's': prev_observations,\n",
    "            'a': action,\n",
    "            'r': reward,\n",
    "            's2': observations,\n",
    "            'done': done,\n",
    "            }\n",
    "        \n",
    "        TrainNet.add_experience(exp)\n",
    "        TrainNet.train(TargetNet)\n",
    "        \n",
    "        iter += 1\n",
    "        if iter % copy_step == 0:\n",
    "            TargetNet.copy_weights(TrainNet)\n",
    "    return rewards"
   ]
  },
  {
   "cell_type": "markdown",
   "metadata": {},
   "source": [
    "# Training"
   ]
  },
  {
   "cell_type": "code",
   "execution_count": 7,
   "metadata": {},
   "outputs": [],
   "source": [
    "gamma = 0.99\n",
    "copy_step = 25\n",
    "max_experiences = 10000\n",
    "min_experiences = 100\n",
    "batch_size = 32\n",
    "lr = 1e-2\n",
    "epsilon = 0.9\n",
    "decay = 0.9999\n",
    "min_epsilon = 0.1\n",
    "episodes = 10000\n",
    "\n",
    "precision = 7"
   ]
  },
  {
   "cell_type": "code",
   "execution_count": 8,
   "metadata": {},
   "outputs": [
    {
     "name": "stdout",
     "output_type": "stream",
     "text": [
      "DeepModel(\n",
      "  (conv1): Conv2d(1, 20, kernel_size=(1, 1), stride=(1, 1))\n",
      "  (conv2): Conv2d(1, 20, kernel_size=(1, 7), stride=(1, 1))\n",
      "  (conv3): Conv2d(1, 20, kernel_size=(6, 1), stride=(1, 1))\n",
      "  (relu): ReLU(inplace=True)\n",
      "  (fc): Linear(in_features=1100, out_features=128, bias=True)\n",
      "  (output_layer): Linear(in_features=128, out_features=7, bias=True)\n",
      ")\n",
      "DeepModel(\n",
      "  (conv1): Conv2d(1, 20, kernel_size=(1, 1), stride=(1, 1))\n",
      "  (conv2): Conv2d(1, 20, kernel_size=(1, 7), stride=(1, 1))\n",
      "  (conv3): Conv2d(1, 20, kernel_size=(6, 1), stride=(1, 1))\n",
      "  (relu): ReLU(inplace=True)\n",
      "  (fc): Linear(in_features=1100, out_features=128, bias=True)\n",
      "  (output_layer): Linear(in_features=128, out_features=7, bias=True)\n",
      ")\n"
     ]
    }
   ],
   "source": [
    "env = ConnectX()\n",
    "\n",
    "num_states = env.observation_space.n\n",
    "num_actions = env.action_space.n\n",
    "\n",
    "all_total_rewards = np.empty(episodes)\n",
    "all_avg_rewards = np.empty(episodes) # Last 100 steps\n",
    "all_epsilons = np.empty(episodes)\n",
    "\n",
    "# Initialize models\n",
    "TrainNet = DQN(num_states, num_actions, gamma, max_experiences, min_experiences, batch_size, lr)\n",
    "TargetNet = DQN(num_states, num_actions, gamma, max_experiences, min_experiences, batch_size, lr)\n",
    "TrainNet.load_weights('weights-deepqconv.pth')\n",
    "TargetNet.load_weights('weights-deepqconv.pth')"
   ]
  },
  {
   "cell_type": "code",
   "execution_count": 9,
   "metadata": {},
   "outputs": [
    {
     "data": {
      "application/vnd.jupyter.widget-view+json": {
       "model_id": "de399725e1c247038c140c57455f7814",
       "version_major": 2,
       "version_minor": 0
      },
      "text/plain": [
       "HBox(children=(FloatProgress(value=0.0, max=10000.0), HTML(value='')))"
      ]
     },
     "metadata": {},
     "output_type": "display_data"
    },
    {
     "name": "stdout",
     "output_type": "stream",
     "text": [
      "[0/10000] episode_reward: 9.500, avg_reward: 9.500, epsilon: 0.89991\n",
      "[1000/10000] episode_reward: 7.500, avg_reward: 10.198, epsilon: 0.81427\n",
      "[2000/10000] episode_reward: 11.000, avg_reward: 10.391, epsilon: 0.73678\n",
      "[3000/10000] episode_reward: 25.500, avg_reward: 11.025, epsilon: 0.66666\n",
      "[4000/10000] episode_reward: 11.500, avg_reward: 10.802, epsilon: 0.60322\n",
      "[5000/10000] episode_reward: 8.500, avg_reward: 11.144, epsilon: 0.54581\n",
      "[6000/10000] episode_reward: 8.500, avg_reward: 10.361, epsilon: 0.49387\n",
      "[7000/10000] episode_reward: 9.000, avg_reward: 9.738, epsilon: 0.44687\n",
      "[8000/10000] episode_reward: 11.500, avg_reward: 10.233, epsilon: 0.40434\n",
      "[9000/10000] episode_reward: 7.500, avg_reward: 11.361, epsilon: 0.36586\n",
      "\n"
     ]
    }
   ],
   "source": [
    "from tqdm.notebook import tqdm\n",
    "\n",
    "for n in tqdm(range(episodes)):\n",
    "    epsilon = max(min_epsilon, epsilon * decay)\n",
    "    total_reward = play_game(env, TrainNet, TargetNet, epsilon, copy_step)\n",
    "    all_total_rewards[n] = total_reward\n",
    "    avg_reward = all_total_rewards[max(0, n - 100):(n + 1)].mean()\n",
    "    all_avg_rewards[n] = avg_reward\n",
    "    all_epsilons[n] = epsilon\n",
    "    \n",
    "\n",
    "    if n % 1000 == 0:\n",
    "        print('[{}/{}] episode_reward: {:.3f}, avg_reward: {:.3f}, epsilon: {:.5f}'.format(n,episodes,total_reward, avg_reward, epsilon))\n",
    "        TrainNet.save_weights('./weights-deepqconv.pth')"
   ]
  },
  {
   "cell_type": "code",
   "execution_count": 10,
   "metadata": {},
   "outputs": [
    {
     "data": {
      "image/png": "[encoded data removed]",
      "text/plain": [
       "<Figure size 432x288 with 1 Axes>"
      ]
     },
     "metadata": {
      "needs_background": "light"
     },
     "output_type": "display_data"
    }
   ],
   "source": [
    "plt.plot(all_avg_rewards)\n",
    "plt.xlabel('Episode')\n",
    "plt.ylabel('Avg rewards (100)')\n",
    "plt.show()"
   ]
  },
  {
   "cell_type": "code",
   "execution_count": 11,
   "metadata": {},
   "outputs": [
    {
     "data": {
      "image/png": "[encoded data removed]",
      "text/plain": [
       "<Figure size 432x288 with 1 Axes>"
      ]
     },
     "metadata": {
      "needs_background": "light"
     },
     "output_type": "display_data"
    }
   ],
   "source": [
    "plt.plot(all_epsilons)\n",
    "plt.xlabel('Episode')\n",
    "plt.ylabel('Epsilon')\n",
    "plt.show()"
   ]
  },
  {
   "cell_type": "code",
   "execution_count": 60,
   "metadata": {},
   "outputs": [],
   "source": [
    "TrainNet.save_weights('./weights-deepqconv.pth')"
   ]
  },
  {
   "cell_type": "markdown",
   "metadata": {},
   "source": [
    "# Create Agent"
   ]
  },
  {
   "cell_type": "code",
   "execution_count": 12,
   "metadata": {},
   "outputs": [],
   "source": [
    "def my_agent(observation, configuration):\n",
    "    return TrainNet.get_action(observation, 0.1)"
   ]
  },
  {
   "cell_type": "code",
   "execution_count": 22,
   "metadata": {},
   "outputs": [
    {
     "ename": "NameError",
     "evalue": "name 'hidden_units' is not defined",
     "output_type": "error",
     "traceback": [
      "\u001b[0;31m---------------------------------------------------------------------------\u001b[0m",
      "\u001b[0;31mNameError\u001b[0m                                 Traceback (most recent call last)",
      "\u001b[0;32m<ipython-input-22-65f871b6f0b7>\u001b[0m in \u001b[0;36m<module>\u001b[0;34m\u001b[0m\n\u001b[1;32m      2\u001b[0m \u001b[0;34m\u001b[0m\u001b[0m\n\u001b[1;32m      3\u001b[0m \u001b[0;31m# Get all hidden layers' weights\u001b[0m\u001b[0;34m\u001b[0m\u001b[0;34m\u001b[0m\u001b[0;34m\u001b[0m\u001b[0m\n\u001b[0;32m----> 4\u001b[0;31m \u001b[0;32mfor\u001b[0m \u001b[0mi\u001b[0m \u001b[0;32min\u001b[0m \u001b[0mrange\u001b[0m\u001b[0;34m(\u001b[0m\u001b[0mlen\u001b[0m\u001b[0;34m(\u001b[0m\u001b[0mhidden_units\u001b[0m\u001b[0;34m)\u001b[0m\u001b[0;34m)\u001b[0m\u001b[0;34m:\u001b[0m\u001b[0;34m\u001b[0m\u001b[0;34m\u001b[0m\u001b[0m\n\u001b[0m\u001b[1;32m      5\u001b[0m     fc_layers.extend([\n\u001b[1;32m      6\u001b[0m         \u001b[0mTrainNet\u001b[0m\u001b[0;34m.\u001b[0m\u001b[0mmodel\u001b[0m\u001b[0;34m.\u001b[0m\u001b[0mhidden_layers\u001b[0m\u001b[0;34m[\u001b[0m\u001b[0mi\u001b[0m\u001b[0;34m]\u001b[0m\u001b[0;34m.\u001b[0m\u001b[0mweight\u001b[0m\u001b[0;34m.\u001b[0m\u001b[0mT\u001b[0m\u001b[0;34m.\u001b[0m\u001b[0mtolist\u001b[0m\u001b[0;34m(\u001b[0m\u001b[0;34m)\u001b[0m\u001b[0;34m,\u001b[0m \u001b[0;31m# weights\u001b[0m\u001b[0;34m\u001b[0m\u001b[0;34m\u001b[0m\u001b[0m\n",
      "\u001b[0;31mNameError\u001b[0m: name 'hidden_units' is not defined"
     ]
    }
   ],
   "source": [
    "fc_layers = []\n",
    "\n",
    "# Get all hidden layers' weights\n",
    "for i in range(len(hidden_units)):\n",
    "    fc_layers.extend([\n",
    "        TrainNet.model.hidden_layers[i].weight.T.tolist(), # weights\n",
    "        TrainNet.model.hidden_layers[i].bias.tolist() # bias\n",
    "    ])\n",
    "\n",
    "# Get output layer's weights\n",
    "fc_layers.extend([\n",
    "    TrainNet.model.output_layer.weight.T.tolist(), # weights\n",
    "    TrainNet.model.output_layer.bias.tolist() # bias\n",
    "])\n",
    "\n",
    "# Convert all layers into usable form before integrating to final agent\n",
    "fc_layers = list(map(\n",
    "    lambda x: str(list(np.round(x, precision))) \\\n",
    "        .replace('array(', '').replace(')', '') \\\n",
    "        .replace(' ', '') \\\n",
    "        .replace('\\n', ''),\n",
    "    fc_layers\n",
    "))\n",
    "fc_layers = np.reshape(fc_layers, (-1, 2))\n",
    "\n",
    "# Create the agent\n",
    "my_agent = '''def my_agent(observation, configuration):\n",
    "    import numpy as np\n",
    "\n",
    "'''\n",
    "\n",
    "# Write hidden layers\n",
    "for i, (w, b) in enumerate(fc_layers[:-1]):\n",
    "    my_agent += '    hl{}_w = np.array({}, dtype=np.float32)\\n'.format(i+1, w)\n",
    "    my_agent += '    hl{}_b = np.array({}, dtype=np.float32)\\n'.format(i+1, b)\n",
    "# Write output layer\n",
    "my_agent += '    ol_w = np.array({}, dtype=np.float32)\\n'.format(fc_layers[-1][0])\n",
    "my_agent += '    ol_b = np.array({}, dtype=np.float32)\\n'.format(fc_layers[-1][1])\n",
    "\n",
    "my_agent += '''\n",
    "    state = observation.board[:]\n",
    "    state.append(observation.mark)\n",
    "    out = np.array(state, dtype=np.float32)\n",
    "\n",
    "'''\n",
    "\n",
    "# Calculate hidden layers\n",
    "for i in range(len(fc_layers[:-1])):\n",
    "    my_agent += '    out = np.matmul(out, hl{0}_w) + hl{0}_b\\n'.format(i+1)\n",
    "    my_agent += '    out = 1/(1 + np.exp(-out))\\n' # Sigmoid function\n",
    "# Calculate output layer\n",
    "my_agent += '    out = np.matmul(out, ol_w) + ol_b\\n'\n",
    "\n",
    "my_agent += '''\n",
    "    for i in range(configuration.columns):\n",
    "        if observation.board[i] != 0:\n",
    "            out[i] = -1e7\n",
    "\n",
    "    return int(np.argmax(out))\n",
    "    '''\n"
   ]
  },
  {
   "cell_type": "code",
   "execution_count": null,
   "metadata": {},
   "outputs": [],
   "source": [
    "with open('submission_conv.py', 'w') as f:\n",
    "    f.write(my_agent)"
   ]
  },
  {
   "cell_type": "code",
   "execution_count": null,
   "metadata": {},
   "outputs": [],
   "source": [
    "from submission_conv import my_agent"
   ]
  },
  {
   "cell_type": "code",
   "execution_count": 13,
   "metadata": {},
   "outputs": [
    {
     "name": "stdout",
     "output_type": "stream",
     "text": [
      "My Agent vs. Random Agent: 0.8\n",
      "My Agent vs. Negamax Agent: 0.0\n",
      "Random Agent vs. My Agent: 0.1\n",
      "Negamax Agent vs. My Agent: 0.9\n"
     ]
    }
   ],
   "source": [
    "def mean_reward(rewards):\n",
    "    return np.round(rewards.count([1,-1])/len(rewards),2)\n",
    "\n",
    "print(\"My Agent vs. Random Agent:\", mean_reward(evaluate(\"connectx\", [my_agent, \"random\"], num_episodes=10)))\n",
    "print(\"My Agent vs. Negamax Agent:\", mean_reward(evaluate(\"connectx\", [my_agent, \"negamax\"], num_episodes=10)))\n",
    "print(\"Random Agent vs. My Agent:\", mean_reward(evaluate(\"connectx\", [\"random\", my_agent], num_episodes=10)))\n",
    "print(\"Negamax Agent vs. My Agent:\", mean_reward(evaluate(\"connectx\", [\"negamax\", my_agent], num_episodes=10)))"
   ]
  },
  {
   "cell_type": "code",
   "execution_count": null,
   "metadata": {},
   "outputs": [],
   "source": []
  }
 ],
 "metadata": {
  "kernelspec": {
   "display_name": "Python 3",
   "language": "python",
   "name": "python3"
  },
  "language_info": {
   "codemirror_mode": {
    "name": "ipython",
    "version": 3
   },
   "file_extension": ".py",
   "mimetype": "text/x-python",
   "name": "python",
   "nbconvert_exporter": "python",
   "pygments_lexer": "ipython3",
   "version": "3.6.10"
  }
 },
 "nbformat": 4,
 "nbformat_minor": 4
}
