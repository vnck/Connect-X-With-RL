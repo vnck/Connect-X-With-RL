{
  "nbformat": 4,
  "nbformat_minor": 0,
  "metadata": {
    "kernelspec": {
      "display_name": "Python 3",
      "language": "python",
      "name": "python3"
    },
    "language_info": {
      "codemirror_mode": {
        "name": "ipython",
        "version": 3
      },
      "file_extension": ".py",
      "mimetype": "text/x-python",
      "name": "python",
      "nbconvert_exporter": "python",
      "pygments_lexer": "ipython3",
      "version": "3.6.10"
    },
    "colab": {
      "name": "ConnectX-DQN.ipynb",
      "provenance": [],
      "collapsed_sections": [],
      "toc_visible": true
    },
    "accelerator": "GPU",
    "widgets": {
      "application/vnd.jupyter.widget-state+json": {
        "16750d77deb342a794c76f8c6fbce5e9": {
          "model_module": "@jupyter-widgets/controls",
          "model_name": "HBoxModel",
          "state": {
            "_view_name": "HBoxView",
            "_dom_classes": [],
            "_model_name": "HBoxModel",
            "_view_module": "@jupyter-widgets/controls",
            "_model_module_version": "1.5.0",
            "_view_count": null,
            "_view_module_version": "1.5.0",
            "box_style": "",
            "layout": "IPY_MODEL_97042ee333c749b3b06bb11760fe8114",
            "_model_module": "@jupyter-widgets/controls",
            "children": [
              "IPY_MODEL_3ee9adcb3c6b43aa9c4da66785cab07b",
              "IPY_MODEL_0260dfd9ff2140c58c69e12cf177e088"
            ]
          }
        },
        "97042ee333c749b3b06bb11760fe8114": {
          "model_module": "@jupyter-widgets/base",
          "model_name": "LayoutModel",
          "state": {
            "_view_name": "LayoutView",
            "grid_template_rows": null,
            "right": null,
            "justify_content": null,
            "_view_module": "@jupyter-widgets/base",
            "overflow": null,
            "_model_module_version": "1.2.0",
            "_view_count": null,
            "flex_flow": null,
            "width": null,
            "min_width": null,
            "border": null,
            "align_items": null,
            "bottom": null,
            "_model_module": "@jupyter-widgets/base",
            "top": null,
            "grid_column": null,
            "overflow_y": null,
            "overflow_x": null,
            "grid_auto_flow": null,
            "grid_area": null,
            "grid_template_columns": null,
            "flex": null,
            "_model_name": "LayoutModel",
            "justify_items": null,
            "grid_row": null,
            "max_height": null,
            "align_content": null,
            "visibility": null,
            "align_self": null,
            "height": null,
            "min_height": null,
            "padding": null,
            "grid_auto_rows": null,
            "grid_gap": null,
            "max_width": null,
            "order": null,
            "_view_module_version": "1.2.0",
            "grid_template_areas": null,
            "object_position": null,
            "object_fit": null,
            "grid_auto_columns": null,
            "margin": null,
            "display": null,
            "left": null
          }
        },
        "3ee9adcb3c6b43aa9c4da66785cab07b": {
          "model_module": "@jupyter-widgets/controls",
          "model_name": "FloatProgressModel",
          "state": {
            "_view_name": "ProgressView",
            "style": "IPY_MODEL_dd22436fa0634343b85bb051e46d9163",
            "_dom_classes": [],
            "description": "100%",
            "_model_name": "FloatProgressModel",
            "bar_style": "success",
            "max": 100000,
            "_view_module": "@jupyter-widgets/controls",
            "_model_module_version": "1.5.0",
            "value": 100000,
            "_view_count": null,
            "_view_module_version": "1.5.0",
            "orientation": "horizontal",
            "min": 0,
            "description_tooltip": null,
            "_model_module": "@jupyter-widgets/controls",
            "layout": "IPY_MODEL_17f1d078d5f249df9335d6272de8bab0"
          }
        },
        "0260dfd9ff2140c58c69e12cf177e088": {
          "model_module": "@jupyter-widgets/controls",
          "model_name": "HTMLModel",
          "state": {
            "_view_name": "HTMLView",
            "style": "IPY_MODEL_23e76aae329f47cfa922806c136c8acb",
            "_dom_classes": [],
            "description": "",
            "_model_name": "HTMLModel",
            "placeholder": "​",
            "_view_module": "@jupyter-widgets/controls",
            "_model_module_version": "1.5.0",
            "value": " 100000/100000 [2:43:49&lt;00:00, 10.17it/s, episode reward=-17.5, avg (100 last) reward=-2.59]",
            "_view_count": null,
            "_view_module_version": "1.5.0",
            "description_tooltip": null,
            "_model_module": "@jupyter-widgets/controls",
            "layout": "IPY_MODEL_3510f8a011ae48a29e47429a6efcba17"
          }
        },
        "dd22436fa0634343b85bb051e46d9163": {
          "model_module": "@jupyter-widgets/controls",
          "model_name": "ProgressStyleModel",
          "state": {
            "_view_name": "StyleView",
            "_model_name": "ProgressStyleModel",
            "description_width": "initial",
            "_view_module": "@jupyter-widgets/base",
            "_model_module_version": "1.5.0",
            "_view_count": null,
            "_view_module_version": "1.2.0",
            "bar_color": null,
            "_model_module": "@jupyter-widgets/controls"
          }
        },
        "17f1d078d5f249df9335d6272de8bab0": {
          "model_module": "@jupyter-widgets/base",
          "model_name": "LayoutModel",
          "state": {
            "_view_name": "LayoutView",
            "grid_template_rows": null,
            "right": null,
            "justify_content": null,
            "_view_module": "@jupyter-widgets/base",
            "overflow": null,
            "_model_module_version": "1.2.0",
            "_view_count": null,
            "flex_flow": null,
            "width": null,
            "min_width": null,
            "border": null,
            "align_items": null,
            "bottom": null,
            "_model_module": "@jupyter-widgets/base",
            "top": null,
            "grid_column": null,
            "overflow_y": null,
            "overflow_x": null,
            "grid_auto_flow": null,
            "grid_area": null,
            "grid_template_columns": null,
            "flex": null,
            "_model_name": "LayoutModel",
            "justify_items": null,
            "grid_row": null,
            "max_height": null,
            "align_content": null,
            "visibility": null,
            "align_self": null,
            "height": null,
            "min_height": null,
            "padding": null,
            "grid_auto_rows": null,
            "grid_gap": null,
            "max_width": null,
            "order": null,
            "_view_module_version": "1.2.0",
            "grid_template_areas": null,
            "object_position": null,
            "object_fit": null,
            "grid_auto_columns": null,
            "margin": null,
            "display": null,
            "left": null
          }
        },
        "23e76aae329f47cfa922806c136c8acb": {
          "model_module": "@jupyter-widgets/controls",
          "model_name": "DescriptionStyleModel",
          "state": {
            "_view_name": "StyleView",
            "_model_name": "DescriptionStyleModel",
            "description_width": "",
            "_view_module": "@jupyter-widgets/base",
            "_model_module_version": "1.5.0",
            "_view_count": null,
            "_view_module_version": "1.2.0",
            "_model_module": "@jupyter-widgets/controls"
          }
        },
        "3510f8a011ae48a29e47429a6efcba17": {
          "model_module": "@jupyter-widgets/base",
          "model_name": "LayoutModel",
          "state": {
            "_view_name": "LayoutView",
            "grid_template_rows": null,
            "right": null,
            "justify_content": null,
            "_view_module": "@jupyter-widgets/base",
            "overflow": null,
            "_model_module_version": "1.2.0",
            "_view_count": null,
            "flex_flow": null,
            "width": null,
            "min_width": null,
            "border": null,
            "align_items": null,
            "bottom": null,
            "_model_module": "@jupyter-widgets/base",
            "top": null,
            "grid_column": null,
            "overflow_y": null,
            "overflow_x": null,
            "grid_auto_flow": null,
            "grid_area": null,
            "grid_template_columns": null,
            "flex": null,
            "_model_name": "LayoutModel",
            "justify_items": null,
            "grid_row": null,
            "max_height": null,
            "align_content": null,
            "visibility": null,
            "align_self": null,
            "height": null,
            "min_height": null,
            "padding": null,
            "grid_auto_rows": null,
            "grid_gap": null,
            "max_width": null,
            "order": null,
            "_view_module_version": "1.2.0",
            "grid_template_areas": null,
            "object_position": null,
            "object_fit": null,
            "grid_auto_columns": null,
            "margin": null,
            "display": null,
            "left": null
          }
        }
      }
    }
  },
  "cells": [
    {
      "cell_type": "code",
      "metadata": {
        "id": "relHHUhhPB_J",
        "colab_type": "code",
        "colab": {
          "base_uri": "https://localhost:8080/",
          "height": 458
        },
        "outputId": "61fb5238-acd4-4024-b2d4-22a77058b8b8"
      },
      "source": [
        "from google.colab import drive\n",
        "drive.mount('/content/gdrive/')\n",
        "weights_path = \"gdrive/My Drive/weights-DQN-v2.pth\"\n",
        "!pip install 'kaggle-environments>=0.1.6'"
      ],
      "execution_count": 1,
      "outputs": [
        {
          "output_type": "stream",
          "text": [
            "Go to this URL in a browser: https://accounts.google.com/o/oauth2/auth?client_id=947318989803-6bn6qk8qdgf4n4g3pfee6491hc0brc4i.apps.googleusercontent.com&redirect_uri=urn%3aietf%3awg%3aoauth%3a2.0%3aoob&scope=email%20https%3a%2f%2fwww.googleapis.com%2fauth%2fdocs.test%20https%3a%2f%2fwww.googleapis.com%2fauth%2fdrive%20https%3a%2f%2fwww.googleapis.com%2fauth%2fdrive.photos.readonly%20https%3a%2f%2fwww.googleapis.com%2fauth%2fpeopleapi.readonly&response_type=code\n",
            "\n",
            "Enter your authorization code:\n",
            "··········\n",
            "Mounted at /content/gdrive/\n",
            "Collecting kaggle-environments>=0.1.6\n",
            "\u001b[?25l  Downloading https://files.pythonhosted.org/packages/c9/59/4ffc77a2bd9cbe227104b17d11ef2400b861cda0c9707ae17cd8ef8b8707/kaggle_environments-1.2.1-py2.py3-none-any.whl (91kB)\n",
            "\u001b[K     |████████████████████████████████| 92kB 2.5MB/s \n",
            "\u001b[?25hCollecting jsonschema>=3.0.1\n",
            "\u001b[?25l  Downloading https://files.pythonhosted.org/packages/c5/8f/51e89ce52a085483359217bc72cdbf6e75ee595d5b1d4b5ade40c7e018b8/jsonschema-3.2.0-py2.py3-none-any.whl (56kB)\n",
            "\u001b[K     |████████████████████████████████| 61kB 3.4MB/s \n",
            "\u001b[?25hRequirement already satisfied: setuptools in /usr/local/lib/python3.6/dist-packages (from jsonschema>=3.0.1->kaggle-environments>=0.1.6) (49.2.0)\n",
            "Requirement already satisfied: attrs>=17.4.0 in /usr/local/lib/python3.6/dist-packages (from jsonschema>=3.0.1->kaggle-environments>=0.1.6) (19.3.0)\n",
            "Requirement already satisfied: importlib-metadata; python_version < \"3.8\" in /usr/local/lib/python3.6/dist-packages (from jsonschema>=3.0.1->kaggle-environments>=0.1.6) (1.7.0)\n",
            "Requirement already satisfied: six>=1.11.0 in /usr/local/lib/python3.6/dist-packages (from jsonschema>=3.0.1->kaggle-environments>=0.1.6) (1.15.0)\n",
            "Requirement already satisfied: pyrsistent>=0.14.0 in /usr/local/lib/python3.6/dist-packages (from jsonschema>=3.0.1->kaggle-environments>=0.1.6) (0.16.0)\n",
            "Requirement already satisfied: zipp>=0.5 in /usr/local/lib/python3.6/dist-packages (from importlib-metadata; python_version < \"3.8\"->jsonschema>=3.0.1->kaggle-environments>=0.1.6) (3.1.0)\n",
            "Installing collected packages: jsonschema, kaggle-environments\n",
            "  Found existing installation: jsonschema 2.6.0\n",
            "    Uninstalling jsonschema-2.6.0:\n",
            "      Successfully uninstalled jsonschema-2.6.0\n",
            "Successfully installed jsonschema-3.2.0 kaggle-environments-1.2.1\n"
          ],
          "name": "stdout"
        }
      ]
    },
    {
      "cell_type": "code",
      "metadata": {
        "id": "3id15KHpPB_P",
        "colab_type": "code",
        "colab": {}
      },
      "source": [
        "import numpy as np\n",
        "import gym\n",
        "import torch\n",
        "import torch.nn as nn\n",
        "import torch.nn.functional as F\n",
        "import torch.optim as optim\n",
        "import matplotlib.pyplot as plt\n",
        "from kaggle_environments import evaluate, make, utils"
      ],
      "execution_count": 2,
      "outputs": []
    },
    {
      "cell_type": "markdown",
      "metadata": {
        "id": "CWJ3gyK2PB_T",
        "colab_type": "text"
      },
      "source": [
        "# Define Environment"
      ]
    },
    {
      "cell_type": "code",
      "metadata": {
        "id": "e4zF9kA1PB_U",
        "colab_type": "code",
        "colab": {}
      },
      "source": [
        "import random\n",
        "\n",
        "def combined_agent(default_agent, alternate_agent, epsilon):\n",
        "    def updated_agent(obs, config):\n",
        "        if (random.random() < epsilon):\n",
        "            return alternate_agent(obs, config)\n",
        "        return default_agent(obs,config)\n",
        "    return updated_agent\n",
        "\n",
        "from kaggle_environments.envs.connectx.connectx import negamax_agent\n",
        "from kaggle_environments.envs.connectx.connectx import random_agent\n",
        "\n",
        "e_greedy_negamax = combined_agent(negamax_agent, random_agent, 0.3)"
      ],
      "execution_count": 3,
      "outputs": []
    },
    {
      "cell_type": "code",
      "metadata": {
        "id": "aCGZdSH3JuIJ",
        "colab_type": "code",
        "colab": {}
      },
      "source": [
        "from azero import get_greedy_agent\n",
        "azero_agent = get_greedy_agent(1, 'gdrive/My Drive/net.pth')"
      ],
      "execution_count": null,
      "outputs": []
    },
    {
      "cell_type": "code",
      "metadata": {
        "id": "KF81YgnfPB_W",
        "colab_type": "code",
        "colab": {}
      },
      "source": [
        "class ConnectX(gym.Env):\n",
        "    def __init__(self, switch_prob=0.5):\n",
        "        self.env = make('connectx', debug=False)\n",
        "        self.pair = [None, 'random']\n",
        "        self.trainer = self.env.train(self.pair)\n",
        "        self.switch_prob = switch_prob\n",
        "\n",
        "        config = self.env.configuration\n",
        "        self.action_space = gym.spaces.Discrete(config.columns)\n",
        "        self.observation_space = gym.spaces.Discrete(config.columns\n",
        "                * config.rows)\n",
        "\n",
        "    def switch_trainer(self):\n",
        "        self.pair = self.pair[::-1]\n",
        "        self.trainer = self.env.train(self.pair)\n",
        "\n",
        "    def step(self, action):\n",
        "        return self.trainer.step(action)\n",
        "\n",
        "    def reset(self):\n",
        "        # if np.random.random() < self.switch_prob:\n",
        "        #    self.switch_trainer()\n",
        "        return self.trainer.reset()\n",
        "\n",
        "    def render(self, **kwargs):\n",
        "        return self.env.render(**kwargs)"
      ],
      "execution_count": 8,
      "outputs": []
    },
    {
      "cell_type": "code",
      "metadata": {
        "id": "teILEM9pPB_a",
        "colab_type": "code",
        "colab": {}
      },
      "source": [
        "# Custom Environment Reward Modification\n",
        "def check_done(observation):\n",
        "    done = [False, '']\n",
        "    # horizontal check\n",
        "    for i in range(6):\n",
        "        for j in range(4):\n",
        "            if observation[i][j] == observation[i][j+1] == observation[i][j+2] == observation[i][j+3] == 1:\n",
        "                done = [True, 'P1 Horizontal']\n",
        "            if observation[i][j] == observation[i][j+1] == observation[i][j+2] == observation[i][j+3] == 2:\n",
        "                done = [True,'P2 Horizontal']\n",
        "    # vertical check\n",
        "    for j in range(7):\n",
        "        for i in range(3):\n",
        "            if observation[i][j] == observation[i+1][j] == observation[i+2][j] == observation[i+3][j] == 1:\n",
        "                done = [True,'P1 Vertical']\n",
        "            if observation[i][j] == observation[i+1][j] == observation[i+2][j] == observation[i+3][j] == 2:\n",
        "                done = [True,'P2 Vertical']\n",
        "    #top left to bottom right diagonal check\n",
        "    for row in range(3):\n",
        "        for col in range(4):\n",
        "            if observation[row][col] == observation[row + 1][col + 1] == observation[row + 2][col + 2] == observation[row + 3][col + 3] == 1:\n",
        "                done = [True,'P1 Diagonal']\n",
        "            if observation[row][col] == observation[row + 1][col + 1] == observation[row + 2][col + 2] == observation[row + 3][col + 3] == 2:\n",
        "                done = [True,'P2 Diagonal']\n",
        "    \n",
        "    #bottom left to top right diagonal check\n",
        "    for row in range(5, 2, -1):\n",
        "        for col in range(3):\n",
        "            if observation[row][col] == observation[row - 1][col + 1] == observation[row - 2][col + 2] == observation[row - 3][col + 3] == 1:\n",
        "                done = [True,'P1 Diagonal']\n",
        "            if observation[row][col] == observation[row - 1][col + 1] == observation[row - 2][col + 2] == observation[row - 3][col + 3] == 2:\n",
        "                done = [True,'P2 Diagonal']\n",
        "    return done"
      ],
      "execution_count": 9,
      "outputs": []
    },
    {
      "cell_type": "code",
      "metadata": {
        "id": "6z5LvmhfPB_f",
        "colab_type": "code",
        "colab": {}
      },
      "source": [
        "env = ConnectX()"
      ],
      "execution_count": 10,
      "outputs": []
    },
    {
      "cell_type": "markdown",
      "metadata": {
        "id": "NNIcHb-_PB_m",
        "colab_type": "text"
      },
      "source": [
        "# Define Model"
      ]
    },
    {
      "cell_type": "code",
      "metadata": {
        "id": "zI8ndzXaPB_n",
        "colab_type": "code",
        "colab": {}
      },
      "source": [
        "class DeepModel(nn.Module):\n",
        "    def __init__(self, num_states, num_actions, hidden_units):\n",
        "        super(DeepModel, self).__init__()\n",
        "        self.hidden_layers = nn.ModuleList([])\n",
        "        for i in range(len(hidden_units)):\n",
        "            if i == 0:\n",
        "                self.hidden_layers.append(nn.Linear(num_states, hidden_units[i]))\n",
        "            else:\n",
        "                self.hidden_layers.append(nn.Linear(hidden_units[i - 1], hidden_units[i]))\n",
        "        self.output_layer = nn.Linear(hidden_units[-1], num_actions)\n",
        "        \n",
        "    def forward(self, x):\n",
        "        for layer in self.hidden_layers:\n",
        "            x = torch.relu(layer(x))\n",
        "        x = self.output_layer(x)\n",
        "        return x\n",
        "    \n",
        "class DQN():\n",
        "    def __init__(self, num_states, num_actions, hidden_units, gamma=0.99, max_experiences=10000, min_experiences=100, batch_size=32, lr=1e-2):\n",
        "        self.device = torch.device(('cuda' if torch.cuda.is_available() else 'cpu'))\n",
        "        self.num_actions = num_actions\n",
        "        self.batch_size = batch_size\n",
        "        self.gamma = gamma\n",
        "        self.model = DeepModel(num_states, num_actions, hidden_units).to(self.device)\n",
        "        print(self.model)\n",
        "        self.optimizer = optim.Adam(self.model.parameters(), lr=lr)\n",
        "        self.criterion = nn.MSELoss().to(self.device)\n",
        "        self.experience = {'s': [], 'a': [], 'r': [], 's2': [], 'done': []}\n",
        "        self.max_experiences = max_experiences\n",
        "        self.min_experiences = min_experiences\n",
        "        self.loss_hist = []\n",
        "    \n",
        "    def predict(self, inputs):\n",
        "        return self.model(torch.from_numpy(inputs).float().to(self.device))\n",
        "    \n",
        "    def train(self, net):\n",
        "        if len(self.experience['s']) < self.min_experiences:\n",
        "            return 0\n",
        "        # randomly select n experiences in buffer to form batch\n",
        "        ids = np.random.randint(low=0, high=len(self.experience['s']), size=self.batch_size)\n",
        "        states = np.asarray([self.preprocess(self.experience['s'][i]) for i in ids])\n",
        "        actions = np.asarray([self.experience['a'][i] for i in ids])\n",
        "        rewards = np.asarray([self.experience['r'][i] for i in ids])\n",
        "        # prepare labels\n",
        "        states_next = np.asarray([self.preprocess(self.experience['s2'][i]) for i in ids])\n",
        "        dones = np.asarray([self.experience['done'][i] for i in ids])\n",
        "        pred_values = np.max(net.predict(states_next).detach().cpu().numpy(),axis=1)\n",
        "        actual_values = np.where(dones, rewards, rewards + self.gamma * pred_values)\n",
        "        actual_values = torch.FloatTensor(actual_values).to(self.device)\n",
        "        actions = np.expand_dims(actions, axis=1)\n",
        "        actions_onehot = torch.FloatTensor(self.batch_size, self.num_actions).zero_()\n",
        "        actions_onehot = actions_onehot.scatter_(1, torch.LongTensor(actions), 1).to(self.device)\n",
        "        self.optimizer.zero_grad()\n",
        "        selected_action_values = torch.sum(self.predict(states) * actions_onehot, dim=1).to(self.device)\n",
        "        loss = self.criterion(selected_action_values, actual_values)\n",
        "        loss.backward()\n",
        "        self.optimizer.step()\n",
        "        \n",
        "    def get_action(self, state, epsilon):\n",
        "        if np.random.random() < epsilon:\n",
        "            return int(np.random.choice([c for c in range(self.num_actions) if state['board'][c] == 0]))\n",
        "        else:\n",
        "            prediction = self.predict(np.atleast_2d(self.preprocess(state)))[0].detach().cpu().numpy()\n",
        "            for i in range(self.num_actions):\n",
        "                if state['board'][i] != 0:\n",
        "                    prediction[i] = -1e7\n",
        "            return int(np.argmax(prediction))\n",
        "    \n",
        "    def add_experience(self, exp):\n",
        "        if len(self.experience['s']) >= self.max_experiences:\n",
        "            for key in self.experience.keys():\n",
        "                self.experience[key].pop(0)\n",
        "        for (key, value) in exp.items():\n",
        "            self.experience[key].append(value)\n",
        "    \n",
        "    def copy_weights(self, net):\n",
        "        self.model.load_state_dict(net.model.state_dict())\n",
        "    \n",
        "    def save_weights(self, path):\n",
        "        torch.save(self.model.state_dict(), path)\n",
        "    \n",
        "    def load_weights(self, path):\n",
        "        self.model.load_state_dict(torch.load(path, map_location=self.device))\n",
        "        \n",
        "    def preprocess(self, state):\n",
        "        board = (state['board'])[:]\n",
        "        if state.mark == 1:\n",
        "            board[board == 2] = -1\n",
        "        else:\n",
        "            board[board == 1] = -1\n",
        "            board[board == 2] = 1\n",
        "        return board"
      ],
      "execution_count": 11,
      "outputs": []
    },
    {
      "cell_type": "code",
      "metadata": {
        "id": "VKn8RDuJPB_r",
        "colab_type": "code",
        "colab": {}
      },
      "source": [
        "def play_game(env, TrainNet, TargetNet, epsilon, copy_step):\n",
        "    rewards = 0\n",
        "    i = 0\n",
        "    done = [False]\n",
        "    observations = env.reset()\n",
        "    while not done[0]:\n",
        "        action = TrainNet.get_action(observations, epsilon)\n",
        "        prev_observations = observations\n",
        "        (observations, reward, overflow, _) = env.step(action)\n",
        "        done = check_done(np.array([float(i) for i in observations['board']]).reshape(6,7))\n",
        "        \n",
        "        if done[0] == False:\n",
        "            reward = 0.5\n",
        "        if 'P2' in done[1]:\n",
        "            reward = -20\n",
        "        elif 'P1' in done[1]:\n",
        "            if 'Vertical' in done[1]:\n",
        "                reward = 5\n",
        "            else: \n",
        "                reward = 20\n",
        "        if overflow == True and done[0] == False:\n",
        "            reward = -99\n",
        "            done[0] = True\n",
        "        \n",
        "        rewards += reward\n",
        "        \n",
        "        exp = {\n",
        "            's': prev_observations,\n",
        "            'a': action,\n",
        "            'r': reward,\n",
        "            's2': observations,\n",
        "            'done': done[0],\n",
        "        }\n",
        "        \n",
        "        TrainNet.add_experience(exp)\n",
        "        TrainNet.train(TargetNet)\n",
        "        \n",
        "        i+=1\n",
        "        if i % copy_step == 0:\n",
        "            TargetNet.copy_weights(TrainNet)\n",
        "    return rewards"
      ],
      "execution_count": 12,
      "outputs": []
    },
    {
      "cell_type": "markdown",
      "metadata": {
        "id": "CejcxGynPB_u",
        "colab_type": "text"
      },
      "source": [
        "# Training"
      ]
    },
    {
      "cell_type": "code",
      "metadata": {
        "id": "mrDeGzY2PB_u",
        "colab_type": "code",
        "colab": {}
      },
      "source": [
        "num_states = env.observation_space.n\n",
        "num_actions = env.action_space.n\n",
        "hidden_units = [128, 128, 128, 128]\n",
        "lr = 1e-2\n",
        "episodes = 100000\n",
        "gamma = 0.99\n",
        "copy_step =25\n",
        "max_experiences = 10000\n",
        "min_experiences = 100\n",
        "batch_size = 32\n",
        "epsilon = 0.99\n",
        "decay = 0.9999\n",
        "min_epsilon = 0.1\n",
        "precision = 7"
      ],
      "execution_count": 13,
      "outputs": []
    },
    {
      "cell_type": "code",
      "metadata": {
        "id": "1yGFy-BWPB_x",
        "colab_type": "code",
        "colab": {
          "base_uri": "https://localhost:8080/",
          "height": 361
        },
        "outputId": "83958f45-eb95-4914-c7b3-61ccea1226d3"
      },
      "source": [
        "env = ConnectX()\n",
        "\n",
        "all_total_rewards = np.empty(episodes)\n",
        "all_avg_rewards = np.empty(episodes)\n",
        "all_epsilons = np.empty(episodes)\n",
        "\n",
        "TrainNet = DQN(num_states, num_actions, hidden_units, gamma, max_experiences, min_experiences, batch_size, lr)\n",
        "TargetNet = DQN(num_states, num_actions, hidden_units, gamma, max_experiences, min_experiences, batch_size, lr)\n",
        "TrainNet.save_weights(weights_path)\n",
        "TrainNet.load_weights(weights_path)\n",
        "TargetNet.load_weights(weights_path)"
      ],
      "execution_count": 14,
      "outputs": [
        {
          "output_type": "stream",
          "text": [
            "DeepModel(\n",
            "  (hidden_layers): ModuleList(\n",
            "    (0): Linear(in_features=42, out_features=128, bias=True)\n",
            "    (1): Linear(in_features=128, out_features=128, bias=True)\n",
            "    (2): Linear(in_features=128, out_features=128, bias=True)\n",
            "    (3): Linear(in_features=128, out_features=128, bias=True)\n",
            "  )\n",
            "  (output_layer): Linear(in_features=128, out_features=7, bias=True)\n",
            ")\n",
            "DeepModel(\n",
            "  (hidden_layers): ModuleList(\n",
            "    (0): Linear(in_features=42, out_features=128, bias=True)\n",
            "    (1): Linear(in_features=128, out_features=128, bias=True)\n",
            "    (2): Linear(in_features=128, out_features=128, bias=True)\n",
            "    (3): Linear(in_features=128, out_features=128, bias=True)\n",
            "  )\n",
            "  (output_layer): Linear(in_features=128, out_features=7, bias=True)\n",
            ")\n"
          ],
          "name": "stdout"
        }
      ]
    },
    {
      "cell_type": "code",
      "metadata": {
        "id": "eY0uTHkC89O-",
        "colab_type": "code",
        "colab": {
          "base_uri": "https://localhost:8080/",
          "height": 189
        },
        "outputId": "1f29e6f8-0036-4e13-d155-5ea69843057b"
      },
      "source": [
        "OpponentNet = DQN(num_states, num_actions, hidden_units, gamma, max_experiences, min_experiences, batch_size, lr)\n",
        "\n",
        "def get_opponent_agent():\n",
        "  OpponentNet.load_weights(weights_path)\n",
        "  def opponent_agent(observation, configuration):\n",
        "    return OpponentNet.get_action(observation, 0)\n",
        "  return opponent_agent\n",
        "\n",
        "opponent_agent = get_opponent_agent()"
      ],
      "execution_count": null,
      "outputs": [
        {
          "output_type": "stream",
          "text": [
            "DeepModel(\n",
            "  (hidden_layers): ModuleList(\n",
            "    (0): Linear(in_features=42, out_features=128, bias=True)\n",
            "    (1): Linear(in_features=128, out_features=128, bias=True)\n",
            "    (2): Linear(in_features=128, out_features=128, bias=True)\n",
            "    (3): Linear(in_features=128, out_features=128, bias=True)\n",
            "  )\n",
            "  (output_layer): Linear(in_features=128, out_features=7, bias=True)\n",
            ")\n"
          ],
          "name": "stdout"
        }
      ]
    },
    {
      "cell_type": "code",
      "metadata": {
        "id": "SgEsaPn0PB_z",
        "colab_type": "code",
        "colab": {
          "base_uri": "https://localhost:8080/",
          "height": 1000,
          "referenced_widgets": [
            "16750d77deb342a794c76f8c6fbce5e9",
            "97042ee333c749b3b06bb11760fe8114",
            "3ee9adcb3c6b43aa9c4da66785cab07b",
            "0260dfd9ff2140c58c69e12cf177e088",
            "dd22436fa0634343b85bb051e46d9163",
            "17f1d078d5f249df9335d6272de8bab0",
            "23e76aae329f47cfa922806c136c8acb",
            "3510f8a011ae48a29e47429a6efcba17"
          ]
        },
        "outputId": "5d17b156-90c5-4c80-ef5c-90aa459c8b1d"
      },
      "source": [
        "from tqdm.notebook import tqdm\n",
        "\n",
        "pbar = tqdm(range(episodes))\n",
        "\n",
        "for n in pbar:\n",
        "    epsilon = max(min_epsilon, epsilon * decay)\n",
        "    total_reward = play_game(env, TrainNet, TargetNet, epsilon, copy_step)\n",
        "    all_total_rewards[n] = total_reward\n",
        "    avg_reward = all_total_rewards[max(0, n - 100):(n + 1)].mean()\n",
        "    all_avg_rewards[n] = avg_reward\n",
        "    all_epsilons[n] = epsilon\n",
        "    \n",
        "    if n % 100 == 0:\n",
        "        pbar.set_postfix({\n",
        "            'episode reward': total_reward,\n",
        "            'avg (100 last) reward': avg_reward,\n",
        "        })\n",
        "\n",
        "    if n % 1000 == 0:\n",
        "        print('[{}/{}] episode_reward: {:.3f}, avg_reward: {:.3f}, epsilon: {:.5f}'.format(n,episodes,total_reward, avg_reward, epsilon))\n",
        "        TrainNet.save_weights(weights_path)\n",
        "        opponent_agent = get_opponent_agent()\n",
        "        random_opponent_agent = combined_agent(azero_agent, opponent_agent, 0.2)\n",
        "        env.pair = [None, random_opponent_agent]\n",
        "        env.trainer = env.env.train(env.pair)"
      ],
      "execution_count": null,
      "outputs": [
        {
          "output_type": "display_data",
          "data": {
            "application/vnd.jupyter.widget-view+json": {
              "model_id": "16750d77deb342a794c76f8c6fbce5e9",
              "version_minor": 0,
              "version_major": 2
            },
            "text/plain": [
              "HBox(children=(FloatProgress(value=0.0, max=100000.0), HTML(value='')))"
            ]
          },
          "metadata": {
            "tags": []
          }
        },
        {
          "output_type": "stream",
          "text": [
            "[0/100000] episode_reward: -17.500, avg_reward: -17.500, epsilon: 0.98990\n",
            "[1000/100000] episode_reward: 25.000, avg_reward: -10.574, epsilon: 0.89569\n",
            "[2000/100000] episode_reward: -17.500, avg_reward: -13.426, epsilon: 0.81045\n",
            "[3000/100000] episode_reward: 25.000, avg_reward: -12.975, epsilon: 0.73333\n",
            "[4000/100000] episode_reward: -18.000, avg_reward: -12.485, epsilon: 0.66354\n",
            "[5000/100000] episode_reward: -18.000, avg_reward: -14.020, epsilon: 0.60039\n",
            "[6000/100000] episode_reward: -13.000, avg_reward: -10.812, epsilon: 0.54325\n",
            "[7000/100000] episode_reward: -17.000, avg_reward: -14.332, epsilon: 0.49155\n",
            "[8000/100000] episode_reward: 25.500, avg_reward: -9.767, epsilon: 0.44477\n",
            "[9000/100000] episode_reward: 27.000, avg_reward: -10.015, epsilon: 0.40245\n",
            "[10000/100000] episode_reward: -15.500, avg_reward: -10.550, epsilon: 0.36415\n",
            "[11000/100000] episode_reward: -16.500, avg_reward: -13.079, epsilon: 0.32949\n",
            "[12000/100000] episode_reward: 23.500, avg_reward: -10.446, epsilon: 0.29813\n",
            "[13000/100000] episode_reward: 27.000, avg_reward: -6.406, epsilon: 0.26976\n",
            "[14000/100000] episode_reward: -16.000, avg_reward: -10.213, epsilon: 0.24409\n",
            "[15000/100000] episode_reward: -17.000, avg_reward: -5.777, epsilon: 0.22086\n",
            "[16000/100000] episode_reward: -17.000, avg_reward: -10.114, epsilon: 0.19984\n",
            "[17000/100000] episode_reward: 26.000, avg_reward: -7.144, epsilon: 0.18082\n",
            "[18000/100000] episode_reward: -16.500, avg_reward: -4.168, epsilon: 0.16361\n",
            "[19000/100000] episode_reward: -14.000, avg_reward: -15.728, epsilon: 0.14804\n",
            "[20000/100000] episode_reward: -15.000, avg_reward: -9.950, epsilon: 0.13396\n",
            "[21000/100000] episode_reward: -15.500, avg_reward: 1.287, epsilon: 0.12121\n",
            "[22000/100000] episode_reward: 25.500, avg_reward: -4.807, epsilon: 0.10967\n",
            "[23000/100000] episode_reward: -16.000, avg_reward: -6.589, epsilon: 0.10000\n",
            "[24000/100000] episode_reward: 26.000, avg_reward: -0.866, epsilon: 0.10000\n",
            "[25000/100000] episode_reward: -14.500, avg_reward: -10.505, epsilon: 0.10000\n",
            "[26000/100000] episode_reward: -14.500, avg_reward: -13.525, epsilon: 0.10000\n",
            "[27000/100000] episode_reward: -13.000, avg_reward: -7.787, epsilon: 0.10000\n",
            "[28000/100000] episode_reward: -15.000, avg_reward: -11.604, epsilon: 0.10000\n",
            "[29000/100000] episode_reward: 26.500, avg_reward: -4.371, epsilon: 0.10000\n",
            "[30000/100000] episode_reward: -13.000, avg_reward: -6.025, epsilon: 0.10000\n",
            "[31000/100000] episode_reward: -13.500, avg_reward: -4.817, epsilon: 0.10000\n",
            "[32000/100000] episode_reward: -14.500, avg_reward: -12.490, epsilon: 0.10000\n",
            "[33000/100000] episode_reward: 28.500, avg_reward: -8.371, epsilon: 0.10000\n",
            "[34000/100000] episode_reward: 10.500, avg_reward: -11.634, epsilon: 0.10000\n",
            "[35000/100000] episode_reward: -14.500, avg_reward: -6.277, epsilon: 0.10000\n",
            "[36000/100000] episode_reward: -14.500, avg_reward: -6.500, epsilon: 0.10000\n",
            "[37000/100000] episode_reward: -16.000, avg_reward: -13.436, epsilon: 0.10000\n",
            "[38000/100000] episode_reward: -14.500, avg_reward: -15.599, epsilon: 0.10000\n",
            "[39000/100000] episode_reward: -16.000, avg_reward: -13.911, epsilon: 0.10000\n",
            "[40000/100000] episode_reward: -15.500, avg_reward: -1.450, epsilon: 0.10000\n",
            "[41000/100000] episode_reward: 26.000, avg_reward: -3.589, epsilon: 0.10000\n",
            "[42000/100000] episode_reward: 27.500, avg_reward: -1.777, epsilon: 0.10000\n",
            "[43000/100000] episode_reward: -15.500, avg_reward: -3.045, epsilon: 0.10000\n",
            "[44000/100000] episode_reward: 24.500, avg_reward: -4.757, epsilon: 0.10000\n",
            "[45000/100000] episode_reward: 27.000, avg_reward: -2.342, epsilon: 0.10000\n",
            "[46000/100000] episode_reward: 26.000, avg_reward: -7.584, epsilon: 0.10000\n",
            "[47000/100000] episode_reward: -16.000, avg_reward: -2.619, epsilon: 0.10000\n",
            "[48000/100000] episode_reward: 25.000, avg_reward: -8.614, epsilon: 0.10000\n",
            "[49000/100000] episode_reward: 26.500, avg_reward: -6.807, epsilon: 0.10000\n",
            "[50000/100000] episode_reward: 25.500, avg_reward: -7.723, epsilon: 0.10000\n",
            "[51000/100000] episode_reward: -15.500, avg_reward: -4.817, epsilon: 0.10000\n",
            "[52000/100000] episode_reward: -15.000, avg_reward: -3.475, epsilon: 0.10000\n",
            "[53000/100000] episode_reward: -14.000, avg_reward: -9.282, epsilon: 0.10000\n",
            "[54000/100000] episode_reward: -15.500, avg_reward: -3.941, epsilon: 0.10000\n",
            "[55000/100000] episode_reward: -15.000, avg_reward: 0.109, epsilon: 0.10000\n",
            "[56000/100000] episode_reward: 24.500, avg_reward: 0.317, epsilon: 0.10000\n",
            "[57000/100000] episode_reward: -15.500, avg_reward: 1.351, epsilon: 0.10000\n",
            "[58000/100000] episode_reward: 24.500, avg_reward: -9.589, epsilon: 0.10000\n",
            "[59000/100000] episode_reward: -16.000, avg_reward: -9.450, epsilon: 0.10000\n",
            "[60000/100000] episode_reward: -15.000, avg_reward: -8.817, epsilon: 0.10000\n",
            "[61000/100000] episode_reward: -16.000, avg_reward: 4.015, epsilon: 0.10000\n",
            "[62000/100000] episode_reward: -14.000, avg_reward: -1.559, epsilon: 0.10000\n",
            "[63000/100000] episode_reward: -17.500, avg_reward: -7.386, epsilon: 0.10000\n",
            "[64000/100000] episode_reward: -16.500, avg_reward: -6.941, epsilon: 0.10000\n",
            "[65000/100000] episode_reward: -15.500, avg_reward: -11.802, epsilon: 0.10000\n",
            "[66000/100000] episode_reward: 24.000, avg_reward: -3.827, epsilon: 0.10000\n",
            "[67000/100000] episode_reward: 27.000, avg_reward: -5.515, epsilon: 0.10000\n",
            "[68000/100000] episode_reward: 27.000, avg_reward: -10.837, epsilon: 0.10000\n",
            "[69000/100000] episode_reward: -14.000, avg_reward: -3.540, epsilon: 0.10000\n",
            "[70000/100000] episode_reward: 26.000, avg_reward: -0.045, epsilon: 0.10000\n",
            "[71000/100000] episode_reward: -12.500, avg_reward: -11.361, epsilon: 0.10000\n",
            "[72000/100000] episode_reward: -17.500, avg_reward: -1.683, epsilon: 0.10000\n",
            "[73000/100000] episode_reward: -15.500, avg_reward: -4.203, epsilon: 0.10000\n",
            "[74000/100000] episode_reward: 10.500, avg_reward: -4.980, epsilon: 0.10000\n",
            "[75000/100000] episode_reward: 27.000, avg_reward: -2.381, epsilon: 0.10000\n",
            "[76000/100000] episode_reward: -15.500, avg_reward: 0.738, epsilon: 0.10000\n",
            "[77000/100000] episode_reward: 27.500, avg_reward: -1.074, epsilon: 0.10000\n",
            "[78000/100000] episode_reward: 27.500, avg_reward: -6.441, epsilon: 0.10000\n",
            "[79000/100000] episode_reward: -15.000, avg_reward: 2.282, epsilon: 0.10000\n",
            "[80000/100000] episode_reward: -15.000, avg_reward: -4.881, epsilon: 0.10000\n",
            "[81000/100000] episode_reward: 26.000, avg_reward: 5.767, epsilon: 0.10000\n",
            "[82000/100000] episode_reward: -16.000, avg_reward: 3.401, epsilon: 0.10000\n",
            "[83000/100000] episode_reward: 10.500, avg_reward: -2.045, epsilon: 0.10000\n",
            "[84000/100000] episode_reward: -15.000, avg_reward: -5.708, epsilon: 0.10000\n",
            "[85000/100000] episode_reward: -15.500, avg_reward: -4.842, epsilon: 0.10000\n",
            "[86000/100000] episode_reward: 26.500, avg_reward: -6.297, epsilon: 0.10000\n",
            "[87000/100000] episode_reward: 24.000, avg_reward: -9.020, epsilon: 0.10000\n",
            "[88000/100000] episode_reward: -16.000, avg_reward: -12.391, epsilon: 0.10000\n",
            "[89000/100000] episode_reward: 25.000, avg_reward: -6.054, epsilon: 0.10000\n",
            "[90000/100000] episode_reward: 25.500, avg_reward: -13.228, epsilon: 0.10000\n",
            "[91000/100000] episode_reward: -16.000, avg_reward: -10.619, epsilon: 0.10000\n",
            "[92000/100000] episode_reward: -13.000, avg_reward: 3.292, epsilon: 0.10000\n",
            "[93000/100000] episode_reward: 25.500, avg_reward: 3.238, epsilon: 0.10000\n",
            "[94000/100000] episode_reward: 27.000, avg_reward: 0.564, epsilon: 0.10000\n",
            "[95000/100000] episode_reward: -15.000, avg_reward: -3.069, epsilon: 0.10000\n",
            "[96000/100000] episode_reward: 7.000, avg_reward: -12.792, epsilon: 0.10000\n",
            "[97000/100000] episode_reward: -14.500, avg_reward: -6.505, epsilon: 0.10000\n",
            "[98000/100000] episode_reward: -15.000, avg_reward: -4.030, epsilon: 0.10000\n",
            "[99000/100000] episode_reward: -15.500, avg_reward: -0.837, epsilon: 0.10000\n",
            "\n"
          ],
          "name": "stdout"
        }
      ]
    },
    {
      "cell_type": "code",
      "metadata": {
        "id": "uHVzZ9nZPB_3",
        "colab_type": "code",
        "colab": {
          "base_uri": "https://localhost:8080/",
          "height": 279
        },
        "outputId": "6e0426b2-10fd-4486-e6e1-3450050f927c"
      },
      "source": [
        "plt.plot(all_avg_rewards)\n",
        "plt.xlabel('Episode')\n",
        "plt.ylabel('Avg rewards (100)')\n",
        "plt.show()"
      ],
      "execution_count": null,
      "outputs": [
        {
          "output_type": "display_data",
          "data": {
            "image/png": "[encoded data removed]",
            "text/plain": [
              "<Figure size 432x288 with 1 Axes>"
            ]
          },
          "metadata": {
            "tags": [],
            "needs_background": "light"
          }
        }
      ]
    },
    {
      "cell_type": "code",
      "metadata": {
        "id": "DYw4Uqo_PB_5",
        "colab_type": "code",
        "colab": {
          "base_uri": "https://localhost:8080/",
          "height": 279
        },
        "outputId": "2ac6bcd3-d170-4e26-f573-8855722471a1"
      },
      "source": [
        "plt.plot(all_epsilons)\n",
        "plt.xlabel('Episode')\n",
        "plt.ylabel('Epsilon')\n",
        "plt.show()"
      ],
      "execution_count": null,
      "outputs": [
        {
          "output_type": "display_data",
          "data": {
            "image/png": "[encoded data removed]",
            "text/plain": [
              "<Figure size 432x288 with 1 Axes>"
            ]
          },
          "metadata": {
            "tags": [],
            "needs_background": "light"
          }
        }
      ]
    },
    {
      "cell_type": "code",
      "metadata": {
        "id": "-LM_9etjPB_9",
        "colab_type": "code",
        "colab": {}
      },
      "source": [
        "TrainNet.save_weights(weights_path)"
      ],
      "execution_count": null,
      "outputs": []
    },
    {
      "cell_type": "markdown",
      "metadata": {
        "id": "MXSTtll0PCAA",
        "colab_type": "text"
      },
      "source": [
        "# Test Agent"
      ]
    },
    {
      "cell_type": "code",
      "metadata": {
        "id": "HGGiBeCcPCAB",
        "colab_type": "code",
        "colab": {}
      },
      "source": [
        "def my_agent(observation, configuration):\n",
        "    return TrainNet.get_action(observation, 0)"
      ],
      "execution_count": 15,
      "outputs": []
    },
    {
      "cell_type": "code",
      "metadata": {
        "id": "l-0raS-6PCAD",
        "colab_type": "code",
        "colab": {
          "base_uri": "https://localhost:8080/",
          "height": 208
        },
        "outputId": "9cc9ed9e-343d-4e42-d276-b429a65b637d"
      },
      "source": [
        "def mean_reward(rewards):\n",
        "    return np.round(rewards.count([1,-1])/len(rewards),2)\n",
        "\n",
        "from nega_agents import return_nega\n",
        "negamax_agent1 = return_nega(1)\n",
        "negamax_agent2 = return_nega(2)\n",
        "negamax_agent3 = return_nega(3)\n",
        "\n",
        "print(\"My Agent vs. Random Agent:\", mean_reward(evaluate(\"connectx\", [my_agent, \"random\"], num_episodes=100)))\n",
        "print(\"My Agent vs. Negamax1 Agent:\", mean_reward(evaluate(\"connectx\", [my_agent, negamax_agent1], num_episodes=100)))\n",
        "print(\"My Agent vs. Negamax2 Agent:\", mean_reward(evaluate(\"connectx\", [my_agent, negamax_agent2], num_episodes=100)))\n",
        "print(\"My Agent vs. Negamax3 Agent:\", mean_reward(evaluate(\"connectx\", [my_agent, negamax_agent3], num_episodes=100)))\n",
        "print(\"My Agent vs. Negamax4 Agent:\", mean_reward(evaluate(\"connectx\", [my_agent, \"negamax\"], num_episodes=100)))\n",
        "print(\"Random Agent vs. My Agent:\", mean_reward(evaluate(\"connectx\", [\"random\", my_agent], num_episodes=100)))\n",
        "print(\"Negamax1 Agent vs. My Agent:\", mean_reward(evaluate(\"connectx\", [negamax_agent1, my_agent], num_episodes=100)))\n",
        "print(\"Negamax2 Agent vs. My Agent:\", mean_reward(evaluate(\"connectx\", [negamax_agent2, my_agent], num_episodes=100)))\n",
        "print(\"Negamax3 Agent vs. My Agent:\", mean_reward(evaluate(\"connectx\", [negamax_agent3, my_agent], num_episodes=100)))\n",
        "print(\"Negamax4 Agent vs. My Agent:\", mean_reward(evaluate(\"connectx\", [\"negamax\", my_agent], num_episodes=100)))"
      ],
      "execution_count": 16,
      "outputs": [
        {
          "output_type": "stream",
          "text": [
            "My Agent vs. Random Agent: 0.89\n",
            "My Agent vs. Negamax1 Agent: 0.9\n",
            "My Agent vs. Negamax2 Agent: 0.27\n",
            "My Agent vs. Negamax3 Agent: 0.75\n",
            "My Agent vs. Negamax4 Agent: 0.0\n",
            "Random Agent vs. My Agent: 0.16\n",
            "Negamax1 Agent vs. My Agent: 0.33\n",
            "Negamax2 Agent vs. My Agent: 0.72\n",
            "Negamax3 Agent vs. My Agent: 0.53\n",
            "Negamax4 Agent vs. My Agent: 1.0\n"
          ],
          "name": "stdout"
        }
      ]
    },
    {
      "cell_type": "code",
      "metadata": {
        "id": "wUA7K1IAPCAG",
        "colab_type": "code",
        "colab": {}
      },
      "source": [
        ""
      ],
      "execution_count": null,
      "outputs": []
    }
  ]
}