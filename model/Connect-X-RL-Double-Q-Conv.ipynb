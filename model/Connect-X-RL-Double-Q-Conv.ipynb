{
 "cells": [
  {
   "cell_type": "code",
   "execution_count": 2,
   "metadata": {},
   "outputs": [
    {
     "name": "stdout",
     "output_type": "stream",
     "text": [
      "Requirement already satisfied: kaggle-environments>=0.1.6 in /opt/conda/lib/python3.6/site-packages (1.2.1)\n",
      "Requirement already satisfied: jsonschema>=3.0.1 in /opt/conda/lib/python3.6/site-packages (from kaggle-environments>=0.1.6) (3.2.0)\n",
      "Requirement already satisfied: pyrsistent>=0.14.0 in /opt/conda/lib/python3.6/site-packages (from jsonschema>=3.0.1->kaggle-environments>=0.1.6) (0.16.0)\n",
      "Requirement already satisfied: attrs>=17.4.0 in /opt/conda/lib/python3.6/site-packages (from jsonschema>=3.0.1->kaggle-environments>=0.1.6) (19.3.0)\n",
      "Requirement already satisfied: setuptools in /opt/conda/lib/python3.6/site-packages (from jsonschema>=3.0.1->kaggle-environments>=0.1.6) (47.1.1.post20200529)\n",
      "Requirement already satisfied: importlib-metadata; python_version < \"3.8\" in /opt/conda/lib/python3.6/site-packages (from jsonschema>=3.0.1->kaggle-environments>=0.1.6) (1.6.1)\n",
      "Requirement already satisfied: six>=1.11.0 in /opt/conda/lib/python3.6/site-packages (from jsonschema>=3.0.1->kaggle-environments>=0.1.6) (1.15.0)\n",
      "Requirement already satisfied: zipp>=0.5 in /opt/conda/lib/python3.6/site-packages (from importlib-metadata; python_version < \"3.8\"->jsonschema>=3.0.1->kaggle-environments>=0.1.6) (3.1.0)\n"
     ]
    }
   ],
   "source": [
    "!pip install 'kaggle-environments>=0.1.6'"
   ]
  },
  {
   "cell_type": "code",
   "execution_count": 3,
   "metadata": {},
   "outputs": [],
   "source": [
    "import numpy as np\n",
    "import gym\n",
    "import torch\n",
    "import torch.nn as nn\n",
    "import torch.optim as optim\n",
    "import matplotlib.pyplot as plt\n",
    "from kaggle_environments import evaluate, make, utils"
   ]
  },
  {
   "cell_type": "markdown",
   "metadata": {},
   "source": [
    "# Define Gym Class"
   ]
  },
  {
   "cell_type": "code",
   "execution_count": 4,
   "metadata": {},
   "outputs": [],
   "source": [
    "import random\n",
    "\n",
    "def combined_agent(default_agent, alternate_agent, epsilon):\n",
    "    def updated_agent(obs, config):\n",
    "        if (random.random() < epsilon):\n",
    "            return alternate_agent(obs, config)\n",
    "        return default_agent(obs,config)\n",
    "    return updated_agent\n",
    "\n",
    "from kaggle_environments.envs.connectx.connectx import negamax_agent\n",
    "from kaggle_environments.envs.connectx.connectx import random_agent\n",
    "\n",
    "e_greedy_negamax = combined_agent(negamax_agent, random_agent, 0.6)"
   ]
  },
  {
   "cell_type": "code",
   "execution_count": 5,
   "metadata": {},
   "outputs": [],
   "source": [
    "class ConnectX(gym.Env):\n",
    "    def __init__(self, opp= 'random',switch_prob=0.5):\n",
    "        self.env = make('connectx', debug=False)\n",
    "        self.env.agents['e_greedy_negamax'] = e_greedy_negamax\n",
    "        self.pair = [None, 'e_greedy_negamax']\n",
    "        self.trainer = self.env.train(self.pair)\n",
    "        self.switch_prob = switch_prob\n",
    "\n",
    "        config = self.env.configuration\n",
    "        self.action_space = gym.spaces.Discrete(config.columns)\n",
    "        self.observation_space = gym.spaces.Discrete(config.columns\n",
    "                * config.rows)\n",
    "\n",
    "    def switch_trainer(self):\n",
    "        self.pair = self.pair[::-1]\n",
    "        self.trainer = self.env.train(self.pair)\n",
    "\n",
    "    def step(self, action):\n",
    "        me_ind = self.pair.index(None) + 1\n",
    "        return self.trainer.step(action),me_ind\n",
    "\n",
    "    def update_agent(self, TrainNet,epsilon):\n",
    "#     ns = {}\n",
    "#     agent_str = create_agent(TrainNet)\n",
    "        def my_agent(observation, configuration):\n",
    "            return TrainNet.get_action(observation, epsilon)\n",
    "    \n",
    "#     exec(agent_str, globals(), ns)\n",
    "        self.env.agents['selftrain'] = my_agent\n",
    "        rand_val = random.random()\n",
    "        if (rand_val < 0.05):\n",
    "            self.pair = [None, 'negamax']\n",
    "        elif rand_val < 0.25:\n",
    "            self.pair = [None, 'random']\n",
    "        else:\n",
    "            self.pair = [None, 'selftrain']\n",
    "        self.trainer = self.env.train(self.pair)\n",
    "    \n",
    "    def reset(self):\n",
    "        if np.random.random() < self.switch_prob:\n",
    "            self.switch_trainer()\n",
    "        return self.trainer.reset()\n",
    "\n",
    "    def render(self, **kwargs):\n",
    "        return self.env.render(**kwargs)"
   ]
  },
  {
   "cell_type": "markdown",
   "metadata": {},
   "source": [
    "# Define Model"
   ]
  },
  {
   "cell_type": "code",
   "execution_count": 6,
   "metadata": {},
   "outputs": [],
   "source": [
    "class DeepModel(nn.Module):\n",
    "    def __init__(\n",
    "        self,\n",
    "        num_states,\n",
    "        num_actions,\n",
    "        ):\n",
    "        super(DeepModel, self).__init__()\n",
    "        self.conv1 = nn.Conv2d(1,20,(1,1))\n",
    "        self.conv2 = nn.Conv2d(1,20,(1,7))\n",
    "        self.conv3 = nn.Conv2d(1,20,(6,1))\n",
    "        self.relu = nn.ReLU(inplace=True)\n",
    "        self.fc = nn.Linear(20*55,128)\n",
    "        self.output_layer = nn.Linear(128, num_actions)\n",
    "\n",
    "    def forward(self, x):\n",
    "        x = x.view(-1,1,6,7)\n",
    "        self.input_x = x\n",
    "        x1 = self.relu(self.conv1(x))\n",
    "        x2 = self.relu(self.conv2(x))\n",
    "        x3 = self.relu(self.conv3(x))\n",
    "        x1 = x1.view(-1,20,42)\n",
    "        x2 = x2.view(-1,20,6)\n",
    "        x3 = x3.view(-1,20,7)\n",
    "        x_cat = torch.cat((x1,x2,x3),2)\n",
    "        x = x_cat.view(-1,20*55)\n",
    "        x = self.relu(self.fc(x))\n",
    "        x = self.output_layer(x)\n",
    "        return x\n",
    "\n",
    "\n",
    "class DQN:\n",
    "    def __init__(\n",
    "        self,\n",
    "        num_states,\n",
    "        num_actions,\n",
    "        gamma,\n",
    "        max_experiences,\n",
    "        min_experiences,\n",
    "        batch_size,\n",
    "        lr,\n",
    "        ):\n",
    "        self.device = torch.device(('cuda'\n",
    "                                    if torch.cuda.is_available() else 'cpu'\n",
    "                                   ))\n",
    "        self.num_actions = num_actions\n",
    "        self.batch_size = batch_size\n",
    "        self.gamma = gamma\n",
    "        self.model = DeepModel(num_states,\n",
    "                               num_actions).to(self.device)\n",
    "        self.model_target = DeepModel(num_states, num_actions).to(self.device)\n",
    "\n",
    "        self.optimizer = optim.Adam(self.model.parameters(), lr=lr)\n",
    "        self.criterion = nn.MSELoss().to(self.device)\n",
    "        self.experience = {\n",
    "            's': [],\n",
    "            'a': [],\n",
    "            'r': [],\n",
    "            's2': [],\n",
    "            'done': [],\n",
    "            }\n",
    "        self.max_experiences = max_experiences\n",
    "        self.min_experiences = min_experiences\n",
    "        self.param_update_count = 0\n",
    "        self.target_update_freq = target_update_freq\n",
    "\n",
    "    def predict(self, inputs, model):\n",
    "        return model(torch.from_numpy(inputs).float().to(self.device))\n",
    "\n",
    "    def train(self, TargetNet):\n",
    "        if len(self.experience['s']) < self.min_experiences:\n",
    "            # only start training process if enough experiences in buffer\n",
    "            return 0\n",
    "\n",
    "        # randomly select n experiences in buffer to form batch\n",
    "        ids = np.random.randint(low=0, high=len(self.experience['s']),\n",
    "                                size=self.batch_size)\n",
    "        states = np.asarray([self.preprocess(self.experience['s'][i])\n",
    "                            for i in ids])\n",
    "        actions = np.asarray([self.experience['a'][i] for i in ids])\n",
    "        actions = torch.autograd.Variable(torch.from_numpy(actions)).type(torch.LongTensor).to(self.device)\n",
    "        rewards = np.asarray([self.experience['r'][i] for i in ids])\n",
    "        rewards = torch.autograd.Variable(torch.from_numpy(rewards)).type(torch.FloatTensor).to(self.device)\n",
    "        # prepare labels\n",
    "        states_next = np.asarray([self.preprocess(self.experience['s2'][i]) for i in ids])\n",
    "        dones = np.asarray([self.experience['done'][i] for i in ids])\n",
    "        dones_mask = torch.autograd.Variable(torch.from_numpy(dones)).type(torch.FloatTensor).to(self.device)\n",
    "        \n",
    "        # get Q values for best actions in observation\n",
    "        q_values = self.predict(states_next, self.model).detach()\n",
    "        _, a_prime = q_values.max(1)\n",
    "        \n",
    "        # get Q values from target network for next state and choise action\n",
    "        q_target_values = self.predict(states_next, self.model_target).detach()\n",
    "        q_target_a_prime = q_target_values.gather(1, a_prime.unsqueeze(1))\n",
    "        q_target_a_prime = q_target_a_prime.squeeze()\n",
    "        \n",
    "        # if current state is end of episode, no next Q value\n",
    "        q_target_a_prime = (1 - dones_mask) * q_target_a_prime\n",
    "        \n",
    "        # get q values of current observation\n",
    "        q_vals = self.predict(states, self.model)\n",
    "        q_actions = q_vals.gather(1, actions.unsqueeze(1))\n",
    "        q_actions = q_actions.squeeze()\n",
    "        \n",
    "        # compute bellman error\n",
    "        error = rewards + self.gamma * q_target_a_prime - q_actions\n",
    "        \n",
    "        clipped_error = -1.0 * error.clamp(-1,1)\n",
    "        \n",
    "        self.optimizer.zero_grad()\n",
    "        q_actions.backward(clipped_error.data)\n",
    "        \n",
    "        self.optimizer.step()\n",
    "        \n",
    "        self.param_update_count += 1\n",
    "        \n",
    "        if self.param_update_count % self.target_update_freq == 0:\n",
    "                self.model_target.load_state_dict(self.model.state_dict())\n",
    "\n",
    "    def get_action(self, state, epsilon):\n",
    "        # to get an action by using epsilon-greedy\n",
    "        if np.random.random() < epsilon:\n",
    "            return int(np.random.choice([c for c in range(self.num_actions) if state['board'][c] == 0]))\n",
    "        else:\n",
    "            prediction = \\\n",
    "                self.predict(np.atleast_2d(self.preprocess(state)), self.model)[0].detach().cpu().numpy()\n",
    "            for i in range(self.num_actions):\n",
    "                if state['board'][i] != 0:\n",
    "                    prediction[i] = -1e7\n",
    "            return int(np.argmax(prediction))\n",
    "\n",
    "    def add_experience(self, exp):\n",
    "        if len(self.experience['s']) >= self.max_experiences:\n",
    "            for key in self.experience.keys():\n",
    "                self.experience[key].pop(0)\n",
    "        for (key, value) in exp.items():\n",
    "            self.experience[key].append(value)\n",
    "\n",
    "    def copy_weights(self, TrainNet):\n",
    "        self.model.load_state_dict(TrainNet.model.state_dict())\n",
    "\n",
    "    def save_weights(self, path):\n",
    "        torch.save(self.model.state_dict(), path)\n",
    "\n",
    "    def load_weights(self, path):\n",
    "        self.model.load_state_dict(torch.load(path))\n",
    "\n",
    "    def preprocess(self, state):\n",
    "        # each state consists of overview of the board and the mark in the obsevations\n",
    "        # results = (state['board'])[:]\n",
    "        # results.append(state.mark)\n",
    "        # return results\n",
    "        board = (state['board'])[:]\n",
    "        if state.mark == 1:\n",
    "            board[board == 2] = -1\n",
    "        else:\n",
    "            board[board == 1] = -1\n",
    "            board[board == 2] = 1\n",
    "        return board\n",
    "\n",
    "    def backward_hook(self, module, grad_in, grad_out):\n",
    "        print(grad_out[0].shape)"
   ]
  },
  {
   "cell_type": "code",
   "execution_count": 7,
   "metadata": {},
   "outputs": [],
   "source": [
    "def check_row_trio(track,my_pos):\n",
    "    if my_pos == 1:\n",
    "        opp_pos = 2\n",
    "    else:\n",
    "        opp_pos = 1\n",
    "    def check_inner(x):\n",
    "        pre_def = [(x,x,x,0),(x,x,0,x),(x,0,x,x),(0,x,x,x)]\n",
    "        pcount = 0\n",
    "        for row in pre_def:\n",
    "            if row in track.keys():\n",
    "                pcount += 1\n",
    "        return pcount\n",
    "    return check_inner(my_pos), check_inner(opp_pos)\n",
    "\n",
    "def check_row_duo(track,my_pos):\n",
    "    if my_pos == 1:\n",
    "        opp_pos = 2\n",
    "    else:\n",
    "        opp_pos = 1\n",
    "    def check_inner(x):\n",
    "        pre_def = [(x,x,0,0),(x,0,x,0),(x,0,0,x),(0,x,x,0),(0,x,0,x),(0,0,x,x)]\n",
    "        pcount = 0\n",
    "        for row in pre_def:\n",
    "            if row in track.keys():\n",
    "                pcount += 1\n",
    "        return pcount\n",
    "    return check_inner(my_pos), check_inner(opp_pos)\n",
    "\n",
    "def play_game(\n",
    "    env,\n",
    "    TrainNet,\n",
    "    TargetNet,\n",
    "    epsilon,\n",
    "    copy_step,\n",
    "    ):\n",
    "    rewards = 0\n",
    "    iter = 0\n",
    "    done = False\n",
    "    \n",
    "#     if n % 100 == 0 and n >= 0:\n",
    "#         env.update_agent(TrainNet,epsilon)\n",
    "    observations = env.reset()\n",
    "    while not done:\n",
    "        action = TrainNet.get_action(observations, epsilon)\n",
    "        prev_observations = observations\n",
    "        (observations, reward, done, info),me_ind = env.step(action)\n",
    "        rs_board = np.array(observations['board']).reshape(6,7)\n",
    "        track = defaultdict(int)\n",
    "        for row in rs_board:\n",
    "            for ind in range(0,len(row) - 3):\n",
    "                track[tuple(row[ind:ind+4])] += 1\n",
    "        for col in np.transpose(rs_board):\n",
    "            for ind in range(0,len(col) - 3):\n",
    "                track[tuple(row[ind:ind+4])] += 1\n",
    "        me_win_nr,opp_win_nr = check_row_trio(track,me_ind)\n",
    "        me_2,opp_2= check_row_duo(track,me_ind)\n",
    "        \n",
    "        if done:\n",
    "            if reward == 1:\n",
    "                reward = 20\n",
    "            elif reward == 0:\n",
    "                reward = -20\n",
    "            else:\n",
    "                reward = 10\n",
    "        else:\n",
    "            reward = 0.2\n",
    "            reward += 5 * me_win_nr\n",
    "            reward -= 5 * opp_win_nr\n",
    "            reward += 2 * me_2\n",
    "            reward -= 2 * opp_2\n",
    "        rewards += reward\n",
    "\n",
    "        exp = {\n",
    "            's': prev_observations,\n",
    "            'a': action,\n",
    "            'r': reward,\n",
    "            's2': observations,\n",
    "            'done': done,\n",
    "            }\n",
    "        \n",
    "        TrainNet.add_experience(exp)\n",
    "        TrainNet.train(TargetNet)\n",
    "        \n",
    "        iter += 1\n",
    "        if iter % copy_step == 0:\n",
    "            TargetNet.copy_weights(TrainNet)\n",
    "    return rewards"
   ]
  },
  {
   "cell_type": "markdown",
   "metadata": {},
   "source": [
    "# Training"
   ]
  },
  {
   "cell_type": "code",
   "execution_count": 8,
   "metadata": {},
   "outputs": [],
   "source": [
    "gamma = 0.99\n",
    "copy_step = 25\n",
    "max_experiences = 10000\n",
    "min_experiences = 100\n",
    "batch_size = 128\n",
    "lr = 1e-2\n",
    "epsilon = 0.9\n",
    "decay = 0.999\n",
    "min_epsilon = 0.1\n",
    "episodes = 10000\n",
    "target_update_freq = 2000\n",
    "\n",
    "precision = 7"
   ]
  },
  {
   "cell_type": "code",
   "execution_count": 9,
   "metadata": {},
   "outputs": [],
   "source": [
    "from collections import Counter,defaultdict\n",
    "\n",
    "\n",
    "env = ConnectX()\n",
    "\n",
    "num_states = env.observation_space.n\n",
    "num_actions = env.action_space.n\n",
    "\n",
    "all_total_rewards = np.empty(episodes)\n",
    "all_avg_rewards = np.empty(episodes) # Last 100 steps\n",
    "all_epsilons = np.empty(episodes)\n",
    "\n",
    "# Initialize models\n",
    "TrainNet = DQN(num_states, num_actions, gamma, max_experiences, min_experiences, batch_size, lr)\n",
    "TargetNet = DQN(num_states, num_actions, gamma, max_experiences, min_experiences, batch_size, lr)\n",
    "# TrainNet.load_weights('weights-double-q-conv.pth')\n",
    "# TargetNet.load_weights('weights-double-q-conv.pth')"
   ]
  },
  {
   "cell_type": "code",
   "execution_count": 9,
   "metadata": {},
   "outputs": [
    {
     "data": {
      "application/vnd.jupyter.widget-view+json": {
       "model_id": "7265d5f618674351b753ee3316daf215",
       "version_major": 2,
       "version_minor": 0
      },
      "text/plain": [
       "HBox(children=(FloatProgress(value=0.0, max=10000.0), HTML(value='')))"
      ]
     },
     "metadata": {},
     "output_type": "display_data"
    },
    {
     "name": "stdout",
     "output_type": "stream",
     "text": [
      "[0/10000] episode_reward: 16.000, avg_reward: 16.000, epsilon: 0.89910\n",
      "[500/10000] episode_reward: -5.200, avg_reward: 17.570, epsilon: 0.54520\n",
      "[1000/10000] episode_reward: 75.600, avg_reward: 25.214, epsilon: 0.33059\n",
      "[1500/10000] episode_reward: 49.000, avg_reward: 24.584, epsilon: 0.20047\n",
      "[2000/10000] episode_reward: 38.600, avg_reward: 34.107, epsilon: 0.12156\n",
      "[2500/10000] episode_reward: 21.000, avg_reward: 32.448, epsilon: 0.10000\n",
      "[3000/10000] episode_reward: 31.800, avg_reward: 37.250, epsilon: 0.10000\n",
      "[3500/10000] episode_reward: 6.000, avg_reward: 39.176, epsilon: 0.10000\n",
      "[4000/10000] episode_reward: 134.600, avg_reward: 41.299, epsilon: 0.10000\n",
      "[4500/10000] episode_reward: 36.200, avg_reward: 37.723, epsilon: 0.10000\n",
      "[5500/10000] episode_reward: 39.400, avg_reward: 36.663, epsilon: 0.10000\n",
      "[6000/10000] episode_reward: 21.600, avg_reward: 43.139, epsilon: 0.10000\n",
      "[6500/10000] episode_reward: 67.800, avg_reward: 40.073, epsilon: 0.10000\n",
      "[7000/10000] episode_reward: 43.600, avg_reward: 43.208, epsilon: 0.10000\n",
      "[7500/10000] episode_reward: -26.600, avg_reward: 40.752, epsilon: 0.10000\n",
      "[8000/10000] episode_reward: 20.000, avg_reward: 40.691, epsilon: 0.10000\n",
      "[8500/10000] episode_reward: 14.800, avg_reward: 41.885, epsilon: 0.10000\n",
      "[9000/10000] episode_reward: 34.000, avg_reward: 38.313, epsilon: 0.10000\n",
      "[9500/10000] episode_reward: -5.400, avg_reward: 33.204, epsilon: 0.10000\n",
      "\n"
     ]
    }
   ],
   "source": [
    "from tqdm.notebook import tqdm\n",
    "\n",
    "for n in tqdm(range(episodes)):\n",
    "    epsilon = max(min_epsilon, epsilon * decay)\n",
    "    total_reward = play_game(env, TrainNet, TargetNet, epsilon, copy_step)\n",
    "    all_total_rewards[n] = total_reward\n",
    "    avg_reward = all_total_rewards[max(0, n - 100):(n + 1)].mean()\n",
    "    all_avg_rewards[n] = avg_reward\n",
    "    all_epsilons[n] = epsilon\n",
    "    \n",
    "    if n % 500 == 0:\n",
    "        print('[{}/{}] episode_reward: {:.3f}, avg_reward: {:.3f}, epsilon: {:.5f}'.format(n,episodes,total_reward, avg_reward, epsilon))\n",
    "        TrainNet.save_weights('./weights-double-q-conv.pth')"
   ]
  },
  {
   "cell_type": "code",
   "execution_count": 10,
   "metadata": {},
   "outputs": [
    {
     "data": {
      "image/png": "[encoded data removed]",
      "text/plain": [
       "<Figure size 432x288 with 1 Axes>"
      ]
     },
     "metadata": {
      "needs_background": "light"
     },
     "output_type": "display_data"
    }
   ],
   "source": [
    "plt.plot(all_avg_rewards)\n",
    "plt.xlabel('Episode')\n",
    "plt.ylabel('Avg rewards (100)')\n",
    "plt.show()"
   ]
  },
  {
   "cell_type": "code",
   "execution_count": 11,
   "metadata": {},
   "outputs": [
    {
     "data": {
      "image/png": "[encoded data removed]",
      "text/plain": [
       "<Figure size 432x288 with 1 Axes>"
      ]
     },
     "metadata": {
      "needs_background": "light"
     },
     "output_type": "display_data"
    }
   ],
   "source": [
    "plt.plot(all_epsilons)\n",
    "plt.xlabel('Episode')\n",
    "plt.ylabel('Epsilon')\n",
    "plt.show()"
   ]
  },
  {
   "cell_type": "code",
   "execution_count": 12,
   "metadata": {},
   "outputs": [],
   "source": [
    "TrainNet.save_weights('./weights-double-q-conv.pth')"
   ]
  },
  {
   "cell_type": "markdown",
   "metadata": {},
   "source": [
    "# Create Agent"
   ]
  },
  {
   "cell_type": "code",
   "execution_count": 10,
   "metadata": {},
   "outputs": [],
   "source": [
    "def my_agent(observation, configuration):\n",
    "    return TrainNet.get_action(observation, 0)"
   ]
  },
  {
   "cell_type": "code",
   "execution_count": 12,
   "metadata": {},
   "outputs": [
    {
     "name": "stdout",
     "output_type": "stream",
     "text": [
      "My Agent vs. Random Agent: 0.85\n",
      "My Agent vs. Negamax1 Agent: 0.64\n",
      "My Agent vs. Negamax2 Agent: 0.29\n",
      "My Agent vs. Negamax3 Agent: 0.46\n",
      "My Agent vs. Negamax4 Agent: 0.07\n",
      "Random Agent vs. My Agent: 0.31\n",
      "Negamax1 Agent vs. My Agent: 0.32\n",
      "Negamax2 Agent vs. My Agent: 0.78\n",
      "Negamax3 Agent vs. My Agent: 0.56\n",
      "Negamax4 Agent vs. My Agent: 0.91\n"
     ]
    }
   ],
   "source": [
    "def mean_reward(rewards):\n",
    "    return np.round(rewards.count([1,-1])/len(rewards),2)\n",
    "\n",
    "from nega_agents import return_nega\n",
    "negamax_agent1 = return_nega(1)\n",
    "negamax_agent2 = return_nega(2)\n",
    "negamax_agent3 = return_nega(3)\n",
    "\n",
    "print(\"My Agent vs. Random Agent:\", mean_reward(evaluate(\"connectx\", [my_agent, \"random\"], num_episodes=100)))\n",
    "print(\"My Agent vs. Negamax1 Agent:\", mean_reward(evaluate(\"connectx\", [my_agent, negamax_agent1], num_episodes=100)))\n",
    "print(\"My Agent vs. Negamax2 Agent:\", mean_reward(evaluate(\"connectx\", [my_agent, negamax_agent2], num_episodes=100)))\n",
    "print(\"My Agent vs. Negamax3 Agent:\", mean_reward(evaluate(\"connectx\", [my_agent, negamax_agent3], num_episodes=100)))\n",
    "print(\"My Agent vs. Negamax4 Agent:\", mean_reward(evaluate(\"connectx\", [my_agent, \"negamax\"], num_episodes=100)))\n",
    "print(\"Random Agent vs. My Agent:\", mean_reward(evaluate(\"connectx\", [\"random\", my_agent], num_episodes=100)))\n",
    "print(\"Negamax1 Agent vs. My Agent:\", mean_reward(evaluate(\"connectx\", [negamax_agent1, my_agent], num_episodes=100)))\n",
    "print(\"Negamax2 Agent vs. My Agent:\", mean_reward(evaluate(\"connectx\", [negamax_agent2, my_agent], num_episodes=100)))\n",
    "print(\"Negamax3 Agent vs. My Agent:\", mean_reward(evaluate(\"connectx\", [negamax_agent3, my_agent], num_episodes=100)))\n",
    "print(\"Negamax4 Agent vs. My Agent:\", mean_reward(evaluate(\"connectx\", [\"negamax\", my_agent], num_episodes=100)))"
   ]
  },
  {
   "cell_type": "code",
   "execution_count": null,
   "metadata": {},
   "outputs": [],
   "source": []
  }
 ],
 "metadata": {
  "kernelspec": {
   "display_name": "Python 3",
   "language": "python",
   "name": "python3"
  },
  "language_info": {
   "codemirror_mode": {
    "name": "ipython",
    "version": 3
   },
   "file_extension": ".py",
   "mimetype": "text/x-python",
   "name": "python",
   "nbconvert_exporter": "python",
   "pygments_lexer": "ipython3",
   "version": "3.6.10"
  }
 },
 "nbformat": 4,
 "nbformat_minor": 4
}
