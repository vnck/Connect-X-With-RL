{
 "cells": [
  {
   "cell_type": "code",
   "execution_count": 1,
   "metadata": {},
   "outputs": [
    {
     "name": "stdout",
     "output_type": "stream",
     "text": [
      "Requirement already satisfied: kaggle-environments>=0.1.6 in /opt/conda/lib/python3.6/site-packages (1.2.1)\n",
      "Requirement already satisfied: jsonschema>=3.0.1 in /opt/conda/lib/python3.6/site-packages (from kaggle-environments>=0.1.6) (3.2.0)\n",
      "Requirement already satisfied: pyrsistent>=0.14.0 in /opt/conda/lib/python3.6/site-packages (from jsonschema>=3.0.1->kaggle-environments>=0.1.6) (0.16.0)\n",
      "Requirement already satisfied: importlib-metadata; python_version < \"3.8\" in /opt/conda/lib/python3.6/site-packages (from jsonschema>=3.0.1->kaggle-environments>=0.1.6) (1.6.1)\n",
      "Requirement already satisfied: setuptools in /opt/conda/lib/python3.6/site-packages (from jsonschema>=3.0.1->kaggle-environments>=0.1.6) (47.1.1.post20200529)\n",
      "Requirement already satisfied: attrs>=17.4.0 in /opt/conda/lib/python3.6/site-packages (from jsonschema>=3.0.1->kaggle-environments>=0.1.6) (19.3.0)\n",
      "Requirement already satisfied: six>=1.11.0 in /opt/conda/lib/python3.6/site-packages (from jsonschema>=3.0.1->kaggle-environments>=0.1.6) (1.15.0)\n",
      "Requirement already satisfied: zipp>=0.5 in /opt/conda/lib/python3.6/site-packages (from importlib-metadata; python_version < \"3.8\"->jsonschema>=3.0.1->kaggle-environments>=0.1.6) (3.1.0)\n"
     ]
    }
   ],
   "source": [
    "!pip install 'kaggle-environments>=0.1.6'"
   ]
  },
  {
   "cell_type": "code",
   "execution_count": 2,
   "metadata": {},
   "outputs": [],
   "source": [
    "import numpy as np\n",
    "import gym\n",
    "import torch\n",
    "import torch.nn as nn\n",
    "import torch.optim as optim\n",
    "import matplotlib.pyplot as plt\n",
    "from kaggle_environments import evaluate, make, utils"
   ]
  },
  {
   "cell_type": "markdown",
   "metadata": {},
   "source": [
    "# Define Gym Class"
   ]
  },
  {
   "cell_type": "code",
   "execution_count": 3,
   "metadata": {},
   "outputs": [],
   "source": [
    "import random\n",
    "\n",
    "def combined_agent(default_agent, alternate_agent, epsilon):\n",
    "    def updated_agent(obs, config):\n",
    "        if (random.random() < epsilon):\n",
    "            return alternate_agent(obs, config)\n",
    "        return default_agent(obs,config)\n",
    "    return updated_agent\n",
    "\n",
    "from kaggle_environments.envs.connectx.connectx import negamax_agent\n",
    "from kaggle_environments.envs.connectx.connectx import random_agent\n",
    "\n",
    "e_greedy_negamax = combined_agent(negamax_agent, random_agent, 0.4)"
   ]
  },
  {
   "cell_type": "code",
   "execution_count": 4,
   "metadata": {},
   "outputs": [],
   "source": [
    "class ConnectX(gym.Env):\n",
    "    def __init__(self, switch_prob=0.5):\n",
    "        self.env = make('connectx', debug=False)\n",
    "        self.pair = [None, e_greedy_negamax]\n",
    "        self.trainer = self.env.train(self.pair)\n",
    "        self.switch_prob = switch_prob\n",
    "\n",
    "        config = self.env.configuration\n",
    "        self.action_space = gym.spaces.Discrete(config.columns)\n",
    "        self.observation_space = gym.spaces.Discrete(config.columns\n",
    "                * config.rows)\n",
    "\n",
    "    def switch_trainer(self):\n",
    "        self.pair = self.pair[::-1]\n",
    "        self.trainer = self.env.train(self.pair)\n",
    "\n",
    "    def step(self, action):\n",
    "        return self.trainer.step(action)\n",
    "\n",
    "    def reset(self):\n",
    "        if np.random.random() < self.switch_prob:\n",
    "            self.switch_trainer()\n",
    "        return self.trainer.reset()\n",
    "\n",
    "    def render(self, **kwargs):\n",
    "        return self.env.render(**kwargs)"
   ]
  },
  {
   "cell_type": "markdown",
   "metadata": {},
   "source": [
    "# Define Model"
   ]
  },
  {
   "cell_type": "code",
   "execution_count": 5,
   "metadata": {},
   "outputs": [],
   "source": [
    "class DeepModel(nn.Module):\n",
    "    def __init__(\n",
    "        self,\n",
    "        num_states,\n",
    "        hidden_units,\n",
    "        num_actions,\n",
    "        ):\n",
    "        super(DeepModel, self).__init__()\n",
    "        self.hidden_layers = nn.ModuleList([])\n",
    "        for i in range(len(hidden_units)):\n",
    "            if i == 0:\n",
    "                self.hidden_layers.append(nn.Linear(num_states,\n",
    "                        hidden_units[i]))\n",
    "            else:\n",
    "                self.hidden_layers.append(nn.Linear(hidden_units[i\n",
    "                        - 1], hidden_units[i]))\n",
    "        self.output_layer = nn.Linear(hidden_units[-1], num_actions)\n",
    "\n",
    "    def forward(self, x):\n",
    "\n",
    "        for layer in self.hidden_layers:\n",
    "            x = torch.sigmoid(layer(x))\n",
    "        x = self.output_layer(x)\n",
    "        return x\n",
    "\n",
    "\n",
    "class DoubleDQN:\n",
    "    def __init__(\n",
    "        self,\n",
    "        num_states,\n",
    "        num_actions,\n",
    "        hidden_units,\n",
    "        gamma,\n",
    "        max_experiences,\n",
    "        min_experiences,\n",
    "        batch_size,\n",
    "        lr,\n",
    "        target_update_freq\n",
    "        ):\n",
    "        self.device = torch.device(('cuda'\n",
    "                                    if torch.cuda.is_available() else 'cpu'\n",
    "                                   ))\n",
    "        print(self.device)\n",
    "        self.num_actions = num_actions\n",
    "        self.batch_size = batch_size\n",
    "        self.gamma = gamma\n",
    "        self.model = DeepModel(num_states, hidden_units,\n",
    "                               num_actions).to(self.device)\n",
    "        self.model_target = DeepModel(num_states, hidden_units, num_actions).to(self.device)\n",
    "        self.optimizer = optim.Adam(self.model.parameters(), lr=lr)\n",
    "        self.experience = {\n",
    "            's': [],\n",
    "            'a': [],\n",
    "            'r': [],\n",
    "            's2': [],\n",
    "            'done': [],\n",
    "            }\n",
    "        self.max_experiences = max_experiences\n",
    "        self.min_experiences = min_experiences\n",
    "        self.param_update_count = 0\n",
    "        self.target_update_freq = target_update_freq\n",
    "\n",
    "    def predict(self, inputs, model):\n",
    "        return model(torch.from_numpy(inputs).float().to(self.device))\n",
    "\n",
    "    def train(self, TargetNet):\n",
    "        if len(self.experience['s']) < self.min_experiences:\n",
    "            # only start training process if enough experiences in buffer\n",
    "            return 0\n",
    "\n",
    "        # randomly select n experiences in buffer to form batch\n",
    "        ids = np.random.randint(low=0, high=len(self.experience['s']),\n",
    "                                size=self.batch_size)\n",
    "        states = np.asarray([self.preprocess(self.experience['s'][i])\n",
    "                            for i in ids])\n",
    "        actions = np.asarray([self.experience['a'][i] for i in ids])\n",
    "        actions = torch.autograd.Variable(torch.from_numpy(actions)).type(torch.LongTensor).to(self.device)\n",
    "        rewards = np.asarray([self.experience['r'][i] for i in ids])\n",
    "        rewards = torch.autograd.Variable(torch.from_numpy(rewards)).type(torch.FloatTensor).to(self.device)\n",
    "\n",
    "\n",
    "        # prepare labels\n",
    "        states_next = np.asarray([self.preprocess(self.experience['s2'\n",
    "                                 ][i]) for i in ids])\n",
    "        dones = np.asarray([self.experience['done'][i] for i in ids])\n",
    "        dones_mask = torch.autograd.Variable(torch.from_numpy(dones)).type(torch.FloatTensor).to(self.device)\n",
    "        \n",
    "        # get Q values for best actions in observation\n",
    "        q_values = self.predict(states_next, self.model).detach()\n",
    "        _, a_prime = q_values.max(1)\n",
    "        \n",
    "        # get Q values from target network for next state and choise action\n",
    "        q_target_values = self.predict(states_next, self.model_target).detach()\n",
    "        q_target_a_prime = q_target_values.gather(1, a_prime.unsqueeze(1))\n",
    "        q_target_a_prime = q_target_a_prime.squeeze()\n",
    "        \n",
    "        # if current state is end of episode, no next Q value\n",
    "        q_target_a_prime = (1 - dones_mask) * q_target_a_prime\n",
    "        \n",
    "        # get q values of current observation\n",
    "        q_vals = self.predict(states, self.model)\n",
    "        q_actions = q_vals.gather(1, actions.unsqueeze(1))\n",
    "        q_actions = q_actions.squeeze()\n",
    "        \n",
    "        # compute bellman error\n",
    "        error = rewards + self.gamma * q_target_a_prime - q_actions\n",
    "        \n",
    "        clipped_error = -1.0 * error.clamp(-1,1)\n",
    "        \n",
    "        self.optimizer.zero_grad()\n",
    "        q_actions.backward(clipped_error.data)\n",
    "        \n",
    "        self.optimizer.step()\n",
    "        \n",
    "        self.param_update_count += 1\n",
    "        \n",
    "        if self.param_update_count % self.target_update_freq == 0:\n",
    "                self.model_target.load_state_dict(self.model.state_dict())\n",
    "\n",
    "    def get_action(self, state, epsilon):\n",
    "        # to get an action by using epsilon-greedy\n",
    "        if np.random.random() < epsilon:\n",
    "            return int(np.random.choice([c for c in\n",
    "                       range(self.num_actions) if state['board'][c]\n",
    "                       == 0]))\n",
    "        else:\n",
    "            prediction = \\\n",
    "                self.predict(np.atleast_2d(self.preprocess(state)), self.model)[0].detach().cpu().numpy()\n",
    "            for i in range(self.num_actions):\n",
    "                if state['board'][i] != 0:\n",
    "                    prediction[i] = -1e7\n",
    "            return int(np.argmax(prediction))\n",
    "\n",
    "    def add_experience(self, exp):\n",
    "        if len(self.experience['s']) >= self.max_experiences:\n",
    "            for key in self.experience.keys():\n",
    "                self.experience[key].pop(0)\n",
    "        for (key, value) in exp.items():\n",
    "            self.experience[key].append(value)\n",
    "\n",
    "    def copy_weights(self, TrainNet):\n",
    "        self.model.load_state_dict(TrainNet.model.state_dict())\n",
    "\n",
    "    def save_weights(self, path):\n",
    "        torch.save(self.model.state_dict(), path)\n",
    "\n",
    "    def load_weights(self, path):\n",
    "        self.model.load_state_dict(torch.load(path))\n",
    "\n",
    "    def preprocess(self, state):\n",
    "        # each state consists of overview of the board and the mark in the obsevations\n",
    "        results = (state['board'])[:]\n",
    "        results.append(state.mark)\n",
    "        return results"
   ]
  },
  {
   "cell_type": "code",
   "execution_count": 6,
   "metadata": {},
   "outputs": [],
   "source": [
    "def play_game(\n",
    "    env,\n",
    "    TrainNet,\n",
    "    TargetNet,\n",
    "    epsilon,\n",
    "    copy_step,\n",
    "    ):\n",
    "    rewards = 0\n",
    "    iter = 0\n",
    "    done = False\n",
    "    observations = env.reset()\n",
    "    while not done:\n",
    "        action = TrainNet.get_action(observations, epsilon)\n",
    "        prev_observations = observations\n",
    "        (observations, reward, done, _) = env.step(action)\n",
    "\n",
    "        if done:\n",
    "            if reward == 1:\n",
    "                reward = 20\n",
    "            elif reward == 0:\n",
    "                reward = -20\n",
    "            else:\n",
    "                reward = 10\n",
    "        else:\n",
    "            reward = 0.5\n",
    "\n",
    "        rewards += reward\n",
    "\n",
    "        exp = {\n",
    "            's': prev_observations,\n",
    "            'a': action,\n",
    "            'r': reward,\n",
    "            's2': observations,\n",
    "            'done': done,\n",
    "            }\n",
    "        \n",
    "        TrainNet.add_experience(exp)\n",
    "        TrainNet.train(TargetNet)\n",
    "        \n",
    "        iter += 1\n",
    "        if iter % copy_step == 0:\n",
    "            TargetNet.copy_weights(TrainNet)\n",
    "    return rewards"
   ]
  },
  {
   "cell_type": "markdown",
   "metadata": {},
   "source": [
    "# Training"
   ]
  },
  {
   "cell_type": "code",
   "execution_count": 7,
   "metadata": {},
   "outputs": [],
   "source": [
    "gamma = 0.99\n",
    "copy_step = 1000\n",
    "hidden_units = [128, 128, 128, 128, 128]\n",
    "max_experiences = 10000\n",
    "min_experiences = 100\n",
    "batch_size = 32\n",
    "lr = 1e-2\n",
    "epsilon = 0.999\n",
    "decay = 0.9999\n",
    "min_epsilon = 0.01\n",
    "episodes = 50000\n",
    "target_update_freq = 1000\n",
    "\n",
    "precision = 7"
   ]
  },
  {
   "cell_type": "code",
   "execution_count": 8,
   "metadata": {},
   "outputs": [
    {
     "name": "stdout",
     "output_type": "stream",
     "text": [
      "cuda\n",
      "cuda\n"
     ]
    }
   ],
   "source": [
    "env = ConnectX()\n",
    "\n",
    "num_states = env.observation_space.n + 1\n",
    "num_actions = env.action_space.n\n",
    "\n",
    "all_total_rewards = np.empty(episodes)\n",
    "all_avg_rewards = np.empty(episodes) # Last 100 steps\n",
    "all_epsilons = np.empty(episodes)\n",
    "\n",
    "# Initialize models\n",
    "TrainNet = DoubleDQN(num_states, num_actions, hidden_units, gamma, max_experiences, min_experiences, batch_size, lr, target_update_freq)\n",
    "TargetNet = DoubleDQN(num_states, num_actions, hidden_units, gamma, max_experiences, min_experiences, batch_size, lr, target_update_freq)"
   ]
  },
  {
   "cell_type": "code",
   "execution_count": null,
   "metadata": {},
   "outputs": [
    {
     "data": {
      "application/vnd.jupyter.widget-view+json": {
       "model_id": "5b8719eef8da4b68a10e10dccc2e0ebb",
       "version_major": 2,
       "version_minor": 0
      },
      "text/plain": [
       "HBox(children=(FloatProgress(value=0.0, max=50000.0), HTML(value='')))"
      ]
     },
     "metadata": {},
     "output_type": "display_data"
    },
    {
     "name": "stdout",
     "output_type": "stream",
     "text": [
      "[0/50000] episode_reward: 17.500, avg_reward: 17.500, epsilon: 0.99890\n",
      "[1000/50000] episode_reward: 14.000, avg_reward: 15.708, epsilon: 0.90384\n",
      "[2000/50000] episode_reward: 12.000, avg_reward: 15.946, epsilon: 0.81782\n",
      "[3000/50000] episode_reward: 14.500, avg_reward: 16.000, epsilon: 0.73999\n",
      "[4000/50000] episode_reward: 11.500, avg_reward: 15.173, epsilon: 0.66957\n",
      "[5000/50000] episode_reward: 26.500, avg_reward: 15.718, epsilon: 0.60585\n",
      "[6000/50000] episode_reward: 22.500, avg_reward: 14.832, epsilon: 0.54819\n",
      "[7000/50000] episode_reward: 27.500, avg_reward: 15.683, epsilon: 0.49602\n",
      "[8000/50000] episode_reward: 13.000, avg_reward: 15.480, epsilon: 0.44882\n",
      "[9000/50000] episode_reward: 16.000, avg_reward: 15.134, epsilon: 0.40610\n",
      "[10000/50000] episode_reward: 13.500, avg_reward: 15.837, epsilon: 0.36746\n",
      "[11000/50000] episode_reward: 13.000, avg_reward: 15.723, epsilon: 0.33249\n",
      "[12000/50000] episode_reward: 11.500, avg_reward: 15.381, epsilon: 0.30084\n",
      "[13000/50000] episode_reward: 24.000, avg_reward: 16.337, epsilon: 0.27221\n",
      "[14000/50000] episode_reward: 13.500, avg_reward: 15.728, epsilon: 0.24631\n",
      "[15000/50000] episode_reward: 14.500, avg_reward: 15.881, epsilon: 0.22287\n"
     ]
    }
   ],
   "source": [
    "from tqdm.notebook import tqdm\n",
    "\n",
    "for n in tqdm(range(episodes)):\n",
    "    epsilon = max(min_epsilon, epsilon * decay)\n",
    "    total_reward = play_game(env, TrainNet, TargetNet, epsilon, copy_step)\n",
    "    all_total_rewards[n] = total_reward\n",
    "    avg_reward = all_total_rewards[max(0, n - 100):(n + 1)].mean()\n",
    "    all_avg_rewards[n] = avg_reward\n",
    "    all_epsilons[n] = epsilon\n",
    "\n",
    "    if n % 1000 == 0:\n",
    "        print('[{}/{}] episode_reward: {:.3f}, avg_reward: {:.3f}, epsilon: {:.5f}'.format(n,episodes,total_reward, avg_reward, epsilon))"
   ]
  },
  {
   "cell_type": "code",
   "execution_count": 9,
   "metadata": {},
   "outputs": [
    {
     "data": {
      "image/png": "[encoded data removed]",
      "text/plain": [
       "<Figure size 432x288 with 1 Axes>"
      ]
     },
     "metadata": {
      "needs_background": "light"
     },
     "output_type": "display_data"
    }
   ],
   "source": [
    "plt.plot(all_avg_rewards)\n",
    "plt.xlabel('Episode')\n",
    "plt.ylabel('Avg rewards (100)')\n",
    "plt.show()"
   ]
  },
  {
   "cell_type": "code",
   "execution_count": 10,
   "metadata": {},
   "outputs": [
    {
     "data": {
      "image/png": "[encoded data removed]",
      "text/plain": [
       "<Figure size 432x288 with 1 Axes>"
      ]
     },
     "metadata": {
      "needs_background": "light"
     },
     "output_type": "display_data"
    }
   ],
   "source": [
    "plt.plot(all_epsilons)\n",
    "plt.xlabel('Episode')\n",
    "plt.ylabel('Epsilon')\n",
    "plt.show()"
   ]
  },
  {
   "cell_type": "code",
   "execution_count": 11,
   "metadata": {},
   "outputs": [],
   "source": [
    "TrainNet.save_weights('./weights-doubleq.pth')"
   ]
  },
  {
   "cell_type": "markdown",
   "metadata": {},
   "source": [
    "# Create Agent"
   ]
  },
  {
   "cell_type": "code",
   "execution_count": 12,
   "metadata": {},
   "outputs": [],
   "source": [
    "fc_layers = []\n",
    "\n",
    "# Get all hidden layers' weights\n",
    "for i in range(len(hidden_units)):\n",
    "    fc_layers.extend([\n",
    "        TrainNet.model.hidden_layers[i].weight.T.tolist(), # weights\n",
    "        TrainNet.model.hidden_layers[i].bias.tolist() # bias\n",
    "    ])\n",
    "\n",
    "# Get output layer's weights\n",
    "fc_layers.extend([\n",
    "    TrainNet.model.output_layer.weight.T.tolist(), # weights\n",
    "    TrainNet.model.output_layer.bias.tolist() # bias\n",
    "])\n",
    "\n",
    "# Convert all layers into usable form before integrating to final agent\n",
    "fc_layers = list(map(\n",
    "    lambda x: str(list(np.round(x, precision))) \\\n",
    "        .replace('array(', '').replace(')', '') \\\n",
    "        .replace(' ', '') \\\n",
    "        .replace('\\n', ''),\n",
    "    fc_layers\n",
    "))\n",
    "fc_layers = np.reshape(fc_layers, (-1, 2))\n",
    "\n",
    "# Create the agent\n",
    "my_agent = '''def my_agent(observation, configuration):\n",
    "    import numpy as np\n",
    "\n",
    "'''\n",
    "\n",
    "# Write hidden layers\n",
    "for i, (w, b) in enumerate(fc_layers[:-1]):\n",
    "    my_agent += '    hl{}_w = np.array({}, dtype=np.float32)\\n'.format(i+1, w)\n",
    "    my_agent += '    hl{}_b = np.array({}, dtype=np.float32)\\n'.format(i+1, b)\n",
    "# Write output layer\n",
    "my_agent += '    ol_w = np.array({}, dtype=np.float32)\\n'.format(fc_layers[-1][0])\n",
    "my_agent += '    ol_b = np.array({}, dtype=np.float32)\\n'.format(fc_layers[-1][1])\n",
    "\n",
    "my_agent += '''\n",
    "    state = observation.board[:]\n",
    "    state.append(observation.mark)\n",
    "    out = np.array(state, dtype=np.float32)\n",
    "\n",
    "'''\n",
    "\n",
    "# Calculate hidden layers\n",
    "for i in range(len(fc_layers[:-1])):\n",
    "    my_agent += '    out = np.matmul(out, hl{0}_w) + hl{0}_b\\n'.format(i+1)\n",
    "    my_agent += '    out = 1/(1 + np.exp(-out))\\n' # Sigmoid function\n",
    "# Calculate output layer\n",
    "my_agent += '    out = np.matmul(out, ol_w) + ol_b\\n'\n",
    "\n",
    "my_agent += '''\n",
    "    for i in range(configuration.columns):\n",
    "        if observation.board[i] != 0:\n",
    "            out[i] = -1e7\n",
    "\n",
    "    return int(np.argmax(out))\n",
    "    '''\n"
   ]
  },
  {
   "cell_type": "code",
   "execution_count": 13,
   "metadata": {},
   "outputs": [],
   "source": [
    "with open('submission-doubleq.py', 'w') as f:\n",
    "    f.write(my_agent)"
   ]
  },
  {
   "cell_type": "code",
   "execution_count": 14,
   "metadata": {},
   "outputs": [],
   "source": [
    "from submission import my_agent"
   ]
  },
  {
   "cell_type": "code",
   "execution_count": 15,
   "metadata": {},
   "outputs": [
    {
     "name": "stdout",
     "output_type": "stream",
     "text": [
      "My Agent vs. Random Agent: 0.7\n",
      "My Agent vs. Negamax Agent: 0.0\n",
      "Random Agent vs. My Agent: 0.0\n",
      "Negamax Agent vs. My Agent: 1.0\n"
     ]
    }
   ],
   "source": [
    "def mean_reward(rewards):\n",
    "    return np.round(rewards.count([1,-1])/len(rewards),2)\n",
    "\n",
    "print(\"My Agent vs. Random Agent:\", mean_reward(evaluate(\"connectx\", [my_agent, \"random\"], num_episodes=10)))\n",
    "print(\"My Agent vs. Negamax Agent:\", mean_reward(evaluate(\"connectx\", [my_agent, \"negamax\"], num_episodes=10)))\n",
    "print(\"Random Agent vs. My Agent:\", mean_reward(evaluate(\"connectx\", [\"random\", my_agent], num_episodes=10)))\n",
    "print(\"Negamax Agent vs. My Agent:\", mean_reward(evaluate(\"connectx\", [\"negamax\", my_agent], num_episodes=10)))"
   ]
  },
  {
   "cell_type": "code",
   "execution_count": 16,
   "metadata": {},
   "outputs": [
    {
     "name": "stdout",
     "output_type": "stream",
     "text": [
      "Negamax Agent vs. Negamax Agent: 0.3\n"
     ]
    }
   ],
   "source": [
    "print(\"Negamax Agent vs. Negamax Agent:\", mean_reward(evaluate(\"connectx\", [\"negamax\", \"negamax\"], num_episodes=10)))"
   ]
  },
  {
   "cell_type": "code",
   "execution_count": 9,
   "metadata": {},
   "outputs": [],
   "source": [
    "def my_agent(observation, configuration):\n",
    "    return TrainNet.get_action(observation, 0)"
   ]
  },
  {
   "cell_type": "code",
   "execution_count": 11,
   "metadata": {},
   "outputs": [
    {
     "name": "stdout",
     "output_type": "stream",
     "text": [
      "My Agent vs. Random Agent: 0.89\n",
      "My Agent vs. Negamax1 Agent: 0.95\n",
      "My Agent vs. Negamax2 Agent: 0.21\n",
      "My Agent vs. Negamax3 Agent: 0.82\n",
      "My Agent vs. Negamax4 Agent: 0.0\n",
      "Random Agent vs. My Agent: 0.17\n",
      "Negamax1 Agent vs. My Agent: 0.27\n",
      "Negamax2 Agent vs. My Agent: 0.9\n",
      "Negamax3 Agent vs. My Agent: 0.36\n",
      "Negamax4 Agent vs. My Agent: 1.0\n"
     ]
    }
   ],
   "source": [
    "def mean_reward(rewards):\n",
    "    return np.round(rewards.count([1,-1])/len(rewards),2)\n",
    "\n",
    "from nega_agents import return_nega\n",
    "negamax_agent1 = return_nega(1)\n",
    "negamax_agent2 = return_nega(2)\n",
    "negamax_agent3 = return_nega(3)\n",
    "\n",
    "print(\"My Agent vs. Random Agent:\", mean_reward(evaluate(\"connectx\", [my_agent, \"random\"], num_episodes=100)))\n",
    "print(\"My Agent vs. Negamax1 Agent:\", mean_reward(evaluate(\"connectx\", [my_agent, negamax_agent1], num_episodes=100)))\n",
    "print(\"My Agent vs. Negamax2 Agent:\", mean_reward(evaluate(\"connectx\", [my_agent, negamax_agent2], num_episodes=100)))\n",
    "print(\"My Agent vs. Negamax3 Agent:\", mean_reward(evaluate(\"connectx\", [my_agent, negamax_agent3], num_episodes=100)))\n",
    "print(\"My Agent vs. Negamax4 Agent:\", mean_reward(evaluate(\"connectx\", [my_agent, \"negamax\"], num_episodes=100)))\n",
    "print(\"Random Agent vs. My Agent:\", mean_reward(evaluate(\"connectx\", [\"random\", my_agent], num_episodes=100)))\n",
    "print(\"Negamax1 Agent vs. My Agent:\", mean_reward(evaluate(\"connectx\", [negamax_agent1, my_agent], num_episodes=100)))\n",
    "print(\"Negamax2 Agent vs. My Agent:\", mean_reward(evaluate(\"connectx\", [negamax_agent2, my_agent], num_episodes=100)))\n",
    "print(\"Negamax3 Agent vs. My Agent:\", mean_reward(evaluate(\"connectx\", [negamax_agent3, my_agent], num_episodes=100)))\n",
    "print(\"Negamax4 Agent vs. My Agent:\", mean_reward(evaluate(\"connectx\", [\"negamax\", my_agent], num_episodes=100)))"
   ]
  },
  {
   "cell_type": "code",
   "execution_count": null,
   "metadata": {},
   "outputs": [],
   "source": []
  }
 ],
 "metadata": {
  "kernelspec": {
   "display_name": "Python 3",
   "language": "python",
   "name": "python3"
  },
  "language_info": {
   "codemirror_mode": {
    "name": "ipython",
    "version": 3
   },
   "file_extension": ".py",
   "mimetype": "text/x-python",
   "name": "python",
   "nbconvert_exporter": "python",
   "pygments_lexer": "ipython3",
   "version": "3.6.10"
  }
 },
 "nbformat": 4,
 "nbformat_minor": 4
}
